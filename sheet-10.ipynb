{
 "cells": [
  {
   "cell_type": "code",
   "execution_count": null,
   "metadata": {},
   "outputs": [],
   "source": [
    "import pandas as pd"
   ]
  },
  {
   "cell_type": "markdown",
   "metadata": {},
   "source": [
    "<b> This next cell for reding te different data </b><br>\n",
    "1. Data will carry the Data for the user, the user_id and the item_id he/she rated and the rating value<br>\n",
    "2. Items will carry the different information about the different movies<br>\n",
    "3.Users will carry the different info about each user<br>\n"
   ]
  },
  {
   "cell_type": "code",
   "execution_count": 282,
   "metadata": {},
   "outputs": [
    {
     "data": {
      "text/html": [
       "<div>\n",
       "<style scoped>\n",
       "    .dataframe tbody tr th:only-of-type {\n",
       "        vertical-align: middle;\n",
       "    }\n",
       "\n",
       "    .dataframe tbody tr th {\n",
       "        vertical-align: top;\n",
       "    }\n",
       "\n",
       "    .dataframe thead th {\n",
       "        text-align: right;\n",
       "    }\n",
       "</style>\n",
       "<table border=\"1\" class=\"dataframe\">\n",
       "  <thead>\n",
       "    <tr style=\"text-align: right;\">\n",
       "      <th></th>\n",
       "      <th>user_id</th>\n",
       "      <th>age</th>\n",
       "      <th>gender</th>\n",
       "      <th>occupation</th>\n",
       "      <th>zip_code</th>\n",
       "    </tr>\n",
       "  </thead>\n",
       "  <tbody>\n",
       "    <tr>\n",
       "      <th>0</th>\n",
       "      <td>1</td>\n",
       "      <td>24</td>\n",
       "      <td>M</td>\n",
       "      <td>technician</td>\n",
       "      <td>85711</td>\n",
       "    </tr>\n",
       "    <tr>\n",
       "      <th>1</th>\n",
       "      <td>2</td>\n",
       "      <td>53</td>\n",
       "      <td>F</td>\n",
       "      <td>other</td>\n",
       "      <td>94043</td>\n",
       "    </tr>\n",
       "    <tr>\n",
       "      <th>2</th>\n",
       "      <td>3</td>\n",
       "      <td>23</td>\n",
       "      <td>M</td>\n",
       "      <td>writer</td>\n",
       "      <td>32067</td>\n",
       "    </tr>\n",
       "    <tr>\n",
       "      <th>3</th>\n",
       "      <td>4</td>\n",
       "      <td>24</td>\n",
       "      <td>M</td>\n",
       "      <td>technician</td>\n",
       "      <td>43537</td>\n",
       "    </tr>\n",
       "    <tr>\n",
       "      <th>4</th>\n",
       "      <td>5</td>\n",
       "      <td>33</td>\n",
       "      <td>F</td>\n",
       "      <td>other</td>\n",
       "      <td>15213</td>\n",
       "    </tr>\n",
       "  </tbody>\n",
       "</table>\n",
       "</div>"
      ],
      "text/plain": [
       "   user_id  age gender  occupation zip_code\n",
       "0        1   24      M  technician    85711\n",
       "1        2   53      F       other    94043\n",
       "2        3   23      M      writer    32067\n",
       "3        4   24      M  technician    43537\n",
       "4        5   33      F       other    15213"
      ]
     },
     "execution_count": 282,
     "metadata": {},
     "output_type": "execute_result"
    }
   ],
   "source": [
    "Data = pd.read_csv('ml-100k/u.data',sep='\\t',header = None,names =['user_id','item_id','rating','timestamp'] )\n",
    "Data.head()\n",
    "\n",
    "items = pd.read_csv(\"ml-100k/u.item\", sep=\"|\", encoding=\"iso-8859-1\", header =None, names =['item_id','movie_title','release_date', 'video_release_date',\n",
    "              'IMDb_URL', 'unknown','Action','Adventure','Animation',\n",
    "              'Childrens','Comedy','Crime','Documentary', 'Drama','Fantasy',\n",
    "              'Film-Noir','Horror','Musical','Mystery','Romance','Sci-Fi',\n",
    "              'Thriller' , 'War' , 'Western'])\n",
    "items.head()\n",
    "\n",
    "users = pd.read_csv('ml-100k/u.user',sep='|',header = None,names =['user_id','age','gender','occupation','zip_code'])\n",
    "users.head()"
   ]
  },
  {
   "cell_type": "code",
   "execution_count": 283,
   "metadata": {},
   "outputs": [
    {
     "data": {
      "text/html": [
       "<div>\n",
       "<style scoped>\n",
       "    .dataframe tbody tr th:only-of-type {\n",
       "        vertical-align: middle;\n",
       "    }\n",
       "\n",
       "    .dataframe tbody tr th {\n",
       "        vertical-align: top;\n",
       "    }\n",
       "\n",
       "    .dataframe thead th {\n",
       "        text-align: right;\n",
       "    }\n",
       "</style>\n",
       "<table border=\"1\" class=\"dataframe\">\n",
       "  <thead>\n",
       "    <tr style=\"text-align: right;\">\n",
       "      <th></th>\n",
       "      <th>item_id</th>\n",
       "      <th>movie_title</th>\n",
       "      <th>release_date</th>\n",
       "      <th>video_release_date</th>\n",
       "      <th>IMDb_URL</th>\n",
       "      <th>unknown</th>\n",
       "      <th>Action</th>\n",
       "      <th>Adventure</th>\n",
       "      <th>Animation</th>\n",
       "      <th>Childrens</th>\n",
       "      <th>...</th>\n",
       "      <th>Fantasy</th>\n",
       "      <th>Film-Noir</th>\n",
       "      <th>Horror</th>\n",
       "      <th>Musical</th>\n",
       "      <th>Mystery</th>\n",
       "      <th>Romance</th>\n",
       "      <th>Sci-Fi</th>\n",
       "      <th>Thriller</th>\n",
       "      <th>War</th>\n",
       "      <th>Western</th>\n",
       "    </tr>\n",
       "  </thead>\n",
       "  <tbody>\n",
       "    <tr>\n",
       "      <th>0</th>\n",
       "      <td>1</td>\n",
       "      <td>Toy Story (1995)</td>\n",
       "      <td>01-Jan-1995</td>\n",
       "      <td>NaN</td>\n",
       "      <td>http://us.imdb.com/M/title-exact?Toy%20Story%2...</td>\n",
       "      <td>0</td>\n",
       "      <td>0</td>\n",
       "      <td>0</td>\n",
       "      <td>1</td>\n",
       "      <td>1</td>\n",
       "      <td>...</td>\n",
       "      <td>0</td>\n",
       "      <td>0</td>\n",
       "      <td>0</td>\n",
       "      <td>0</td>\n",
       "      <td>0</td>\n",
       "      <td>0</td>\n",
       "      <td>0</td>\n",
       "      <td>0</td>\n",
       "      <td>0</td>\n",
       "      <td>0</td>\n",
       "    </tr>\n",
       "    <tr>\n",
       "      <th>1</th>\n",
       "      <td>2</td>\n",
       "      <td>GoldenEye (1995)</td>\n",
       "      <td>01-Jan-1995</td>\n",
       "      <td>NaN</td>\n",
       "      <td>http://us.imdb.com/M/title-exact?GoldenEye%20(...</td>\n",
       "      <td>0</td>\n",
       "      <td>1</td>\n",
       "      <td>1</td>\n",
       "      <td>0</td>\n",
       "      <td>0</td>\n",
       "      <td>...</td>\n",
       "      <td>0</td>\n",
       "      <td>0</td>\n",
       "      <td>0</td>\n",
       "      <td>0</td>\n",
       "      <td>0</td>\n",
       "      <td>0</td>\n",
       "      <td>0</td>\n",
       "      <td>1</td>\n",
       "      <td>0</td>\n",
       "      <td>0</td>\n",
       "    </tr>\n",
       "    <tr>\n",
       "      <th>2</th>\n",
       "      <td>3</td>\n",
       "      <td>Four Rooms (1995)</td>\n",
       "      <td>01-Jan-1995</td>\n",
       "      <td>NaN</td>\n",
       "      <td>http://us.imdb.com/M/title-exact?Four%20Rooms%...</td>\n",
       "      <td>0</td>\n",
       "      <td>0</td>\n",
       "      <td>0</td>\n",
       "      <td>0</td>\n",
       "      <td>0</td>\n",
       "      <td>...</td>\n",
       "      <td>0</td>\n",
       "      <td>0</td>\n",
       "      <td>0</td>\n",
       "      <td>0</td>\n",
       "      <td>0</td>\n",
       "      <td>0</td>\n",
       "      <td>0</td>\n",
       "      <td>1</td>\n",
       "      <td>0</td>\n",
       "      <td>0</td>\n",
       "    </tr>\n",
       "    <tr>\n",
       "      <th>3</th>\n",
       "      <td>4</td>\n",
       "      <td>Get Shorty (1995)</td>\n",
       "      <td>01-Jan-1995</td>\n",
       "      <td>NaN</td>\n",
       "      <td>http://us.imdb.com/M/title-exact?Get%20Shorty%...</td>\n",
       "      <td>0</td>\n",
       "      <td>1</td>\n",
       "      <td>0</td>\n",
       "      <td>0</td>\n",
       "      <td>0</td>\n",
       "      <td>...</td>\n",
       "      <td>0</td>\n",
       "      <td>0</td>\n",
       "      <td>0</td>\n",
       "      <td>0</td>\n",
       "      <td>0</td>\n",
       "      <td>0</td>\n",
       "      <td>0</td>\n",
       "      <td>0</td>\n",
       "      <td>0</td>\n",
       "      <td>0</td>\n",
       "    </tr>\n",
       "    <tr>\n",
       "      <th>4</th>\n",
       "      <td>5</td>\n",
       "      <td>Copycat (1995)</td>\n",
       "      <td>01-Jan-1995</td>\n",
       "      <td>NaN</td>\n",
       "      <td>http://us.imdb.com/M/title-exact?Copycat%20(1995)</td>\n",
       "      <td>0</td>\n",
       "      <td>0</td>\n",
       "      <td>0</td>\n",
       "      <td>0</td>\n",
       "      <td>0</td>\n",
       "      <td>...</td>\n",
       "      <td>0</td>\n",
       "      <td>0</td>\n",
       "      <td>0</td>\n",
       "      <td>0</td>\n",
       "      <td>0</td>\n",
       "      <td>0</td>\n",
       "      <td>0</td>\n",
       "      <td>1</td>\n",
       "      <td>0</td>\n",
       "      <td>0</td>\n",
       "    </tr>\n",
       "  </tbody>\n",
       "</table>\n",
       "<p>5 rows × 24 columns</p>\n",
       "</div>"
      ],
      "text/plain": [
       "   item_id        movie_title release_date  video_release_date  \\\n",
       "0        1   Toy Story (1995)  01-Jan-1995                 NaN   \n",
       "1        2   GoldenEye (1995)  01-Jan-1995                 NaN   \n",
       "2        3  Four Rooms (1995)  01-Jan-1995                 NaN   \n",
       "3        4  Get Shorty (1995)  01-Jan-1995                 NaN   \n",
       "4        5     Copycat (1995)  01-Jan-1995                 NaN   \n",
       "\n",
       "                                            IMDb_URL  unknown  Action  \\\n",
       "0  http://us.imdb.com/M/title-exact?Toy%20Story%2...        0       0   \n",
       "1  http://us.imdb.com/M/title-exact?GoldenEye%20(...        0       1   \n",
       "2  http://us.imdb.com/M/title-exact?Four%20Rooms%...        0       0   \n",
       "3  http://us.imdb.com/M/title-exact?Get%20Shorty%...        0       1   \n",
       "4  http://us.imdb.com/M/title-exact?Copycat%20(1995)        0       0   \n",
       "\n",
       "   Adventure  Animation  Childrens  ...  Fantasy  Film-Noir  Horror  Musical  \\\n",
       "0          0          1          1  ...        0          0       0        0   \n",
       "1          1          0          0  ...        0          0       0        0   \n",
       "2          0          0          0  ...        0          0       0        0   \n",
       "3          0          0          0  ...        0          0       0        0   \n",
       "4          0          0          0  ...        0          0       0        0   \n",
       "\n",
       "   Mystery  Romance  Sci-Fi  Thriller  War  Western  \n",
       "0        0        0       0         0    0        0  \n",
       "1        0        0       0         1    0        0  \n",
       "2        0        0       0         1    0        0  \n",
       "3        0        0       0         0    0        0  \n",
       "4        0        0       0         1    0        0  \n",
       "\n",
       "[5 rows x 24 columns]"
      ]
     },
     "execution_count": 283,
     "metadata": {},
     "output_type": "execute_result"
    }
   ],
   "source": [
    "items.head()"
   ]
  },
  {
   "cell_type": "code",
   "execution_count": 284,
   "metadata": {},
   "outputs": [
    {
     "data": {
      "text/html": [
       "<div>\n",
       "<style scoped>\n",
       "    .dataframe tbody tr th:only-of-type {\n",
       "        vertical-align: middle;\n",
       "    }\n",
       "\n",
       "    .dataframe tbody tr th {\n",
       "        vertical-align: top;\n",
       "    }\n",
       "\n",
       "    .dataframe thead th {\n",
       "        text-align: right;\n",
       "    }\n",
       "</style>\n",
       "<table border=\"1\" class=\"dataframe\">\n",
       "  <thead>\n",
       "    <tr style=\"text-align: right;\">\n",
       "      <th></th>\n",
       "      <th>user_id</th>\n",
       "      <th>age</th>\n",
       "      <th>gender</th>\n",
       "      <th>occupation</th>\n",
       "      <th>zip_code</th>\n",
       "    </tr>\n",
       "  </thead>\n",
       "  <tbody>\n",
       "    <tr>\n",
       "      <th>0</th>\n",
       "      <td>1</td>\n",
       "      <td>24</td>\n",
       "      <td>M</td>\n",
       "      <td>technician</td>\n",
       "      <td>85711</td>\n",
       "    </tr>\n",
       "    <tr>\n",
       "      <th>1</th>\n",
       "      <td>2</td>\n",
       "      <td>53</td>\n",
       "      <td>F</td>\n",
       "      <td>other</td>\n",
       "      <td>94043</td>\n",
       "    </tr>\n",
       "    <tr>\n",
       "      <th>2</th>\n",
       "      <td>3</td>\n",
       "      <td>23</td>\n",
       "      <td>M</td>\n",
       "      <td>writer</td>\n",
       "      <td>32067</td>\n",
       "    </tr>\n",
       "    <tr>\n",
       "      <th>3</th>\n",
       "      <td>4</td>\n",
       "      <td>24</td>\n",
       "      <td>M</td>\n",
       "      <td>technician</td>\n",
       "      <td>43537</td>\n",
       "    </tr>\n",
       "    <tr>\n",
       "      <th>4</th>\n",
       "      <td>5</td>\n",
       "      <td>33</td>\n",
       "      <td>F</td>\n",
       "      <td>other</td>\n",
       "      <td>15213</td>\n",
       "    </tr>\n",
       "  </tbody>\n",
       "</table>\n",
       "</div>"
      ],
      "text/plain": [
       "   user_id  age gender  occupation zip_code\n",
       "0        1   24      M  technician    85711\n",
       "1        2   53      F       other    94043\n",
       "2        3   23      M      writer    32067\n",
       "3        4   24      M  technician    43537\n",
       "4        5   33      F       other    15213"
      ]
     },
     "execution_count": 284,
     "metadata": {},
     "output_type": "execute_result"
    }
   ],
   "source": [
    "users.head()"
   ]
  },
  {
   "cell_type": "markdown",
   "metadata": {},
   "source": [
    "<b> Exercise 1 part 1 \"Showcase how the ratings vary across users\" </b><br>\n",
    "1. First thing that i made is to count that number of times each  user has rated a movie and normalize them\n",
    "and save it num_ratings_per_user, the values are saved in variable num_ratings_per_user and printed under next cell.<br>\n",
    "1-cont. This helps us see the percentage that every user contrbuites in the rating<br>\n",
    "2. got the number of users who did a rating of anykind and printed it<br>\n",
    "3. got the number of users who did not do a rating of anykind and printed it<br> \n"
   ]
  },
  {
   "cell_type": "code",
   "execution_count": 285,
   "metadata": {},
   "outputs": [
    {
     "name": "stdout",
     "output_type": "stream",
     "text": [
      "The normalized value the number of ratings per user\n",
      "405    0.00737\n",
      "655    0.00685\n",
      "13     0.00636\n",
      "450    0.00540\n",
      "276    0.00518\n",
      "        ...   \n",
      "147    0.00020\n",
      "19     0.00020\n",
      "572    0.00020\n",
      "636    0.00020\n",
      "895    0.00020\n",
      "Name: user_id, Length: 943, dtype: float64\n",
      "-----------------------------\n",
      "The number of users who did a rating is =  943\n",
      "The total number os users is =  943\n",
      "--------------------------------\n",
      "Users who didn't rate at all 0\n"
     ]
    }
   ],
   "source": [
    "print(\"The normalized value the number of ratings per user\")\n",
    "num_ratings_per_user = Data['user_id'].value_counts(normalize=True)\n",
    "print(num_ratings_per_user)\n",
    "\n",
    "print ('-----------------------------')\n",
    "\n",
    "print (\"The number of users who did a rating is = \", len(num_ratings_per_user))\n",
    "users_in_ratings  = Data['user_id']\n",
    "all_users= users['user_id']\n",
    "print(\"The total number os users is = \", len(all_users))\n",
    "print('--------------------------------')\n",
    "users_no_rating = all_users[~all_users.isin(users_in_ratings)] \n",
    "print(\"Users who didn't rate at all\", len(users_no_rating))\n",
    "\n",
    "\n"
   ]
  },
  {
   "cell_type": "markdown",
   "metadata": {},
   "source": [
    "<b>Exercise 1 part 2 \"Showcase how the ratings vary across items.\"</b><br>\n",
    "1.To solve this part i merged twqo dataframes, the data of the items on the condition they have same item_id.<br>\n",
    "2.I did that so that i will have the movie_name <br>\n",
    "3. I will then group by the movie_title and get the mean of rating for every movie<br> \n",
    "4. And also the standard deviation of the rating for every movie\n",
    "\n"
   ]
  },
  {
   "cell_type": "markdown",
   "metadata": {},
   "source": [
    "data_movie_rating_added = pd.merge(Data,items[['item_id','movie_title']], on=\"item_id\")\n",
    "data_movie_rating_added.head()"
   ]
  },
  {
   "cell_type": "code",
   "execution_count": 280,
   "metadata": {},
   "outputs": [
    {
     "name": "stdout",
     "output_type": "stream",
     "text": [
      "The mean of ratings for every movie is :\n"
     ]
    },
    {
     "data": {
      "text/plain": [
       "movie_title\n",
       "'Til There Was You (1997)                2.333333\n",
       "1-900 (1994)                             2.600000\n",
       "101 Dalmatians (1996)                    2.908257\n",
       "12 Angry Men (1957)                      4.344000\n",
       "187 (1997)                               3.024390\n",
       "                                           ...   \n",
       "Young Guns II (1990)                     2.772727\n",
       "Young Poisoner's Handbook, The (1995)    3.341463\n",
       "Zeus and Roxanne (1997)                  2.166667\n",
       "unknown                                  3.444444\n",
       "Á köldum klaka (Cold Fever) (1994)       3.000000\n",
       "Name: rating, Length: 1664, dtype: float64"
      ]
     },
     "execution_count": 280,
     "metadata": {},
     "output_type": "execute_result"
    }
   ],
   "source": [
    "print(\"The mean of ratings for every movie is :\")\n",
    "data_movie_rating_added.groupby('movie_title')['rating'].mean()"
   ]
  },
  {
   "cell_type": "code",
   "execution_count": 281,
   "metadata": {},
   "outputs": [
    {
     "name": "stdout",
     "output_type": "stream",
     "text": [
      " The standard deviation of the Ratings  movie items \n"
     ]
    },
    {
     "data": {
      "text/plain": [
       "movie_title\n",
       "'Til There Was You (1997)                1.000000\n",
       "1-900 (1994)                             1.516575\n",
       "101 Dalmatians (1996)                    1.076184\n",
       "12 Angry Men (1957)                      0.719588\n",
       "187 (1997)                               1.172344\n",
       "                                           ...   \n",
       "Young Guns II (1990)                     1.008421\n",
       "Young Poisoner's Handbook, The (1995)    1.237129\n",
       "Zeus and Roxanne (1997)                  0.983192\n",
       "unknown                                  1.130388\n",
       "Á köldum klaka (Cold Fever) (1994)            NaN\n",
       "Name: rating, Length: 1664, dtype: float64"
      ]
     },
     "execution_count": 281,
     "metadata": {},
     "output_type": "execute_result"
    }
   ],
   "source": [
    "print(\" The standard deviation of the Ratings  movie items \")\n",
    "data_movie_rating_added.groupby('movie_title')['rating'].std()"
   ]
  },
  {
   "cell_type": "markdown",
   "metadata": {},
   "source": [
    "<b> Exercise 1 part 3 </b><br>\n",
    "1. i made a list having all the possible genres<br>\n",
    "2. i then looped over the values every time geting the movie_id with that specfic genre<br>\n",
    "3. the result that now for every genre i have all the movies that can be catogrixed into it<br>\n",
    "4. i then looped over the dictionary holding the genre and the movies corresponding to it and got the mean of the rating of movies for every genre\n",
    "you will find everything printed under the next cells<br> "
   ]
  },
  {
   "cell_type": "code",
   "execution_count": null,
   "metadata": {},
   "outputs": [],
   "source": [
    "#unknown = items[items['unknown']==1]['item_id']\n",
    "genres = ['unknown','Action','Adventure','Animation',\n",
    "              'Childrens','Comedy','Crime','Documentary', 'Drama','Fantasy',\n",
    "              'Film-Noir','Horror','Musical','Mystery','Romance','Sci-Fi',\n",
    "              'Thriller' , 'War' , 'Western']\n",
    "genre_dic ={}\n",
    "    \n",
    "    \n"
   ]
  },
  {
   "cell_type": "code",
   "execution_count": 286,
   "metadata": {},
   "outputs": [
    {
     "name": "stdout",
     "output_type": "stream",
     "text": [
      "The mean of rating of genre is unknown, the mean_rating is: 3.2  \n",
      "The mean of rating of genre is Action, the mean_rating is: 3.480245417953027  \n",
      "The mean of rating of genre is Adventure, the mean_rating is: 3.503526503308369  \n",
      "The mean of rating of genre is Animation, the mean_rating is: 3.5766990291262135  \n",
      "The mean of rating of genre is Childrens, the mean_rating is: 3.3532442216652742  \n",
      "The mean of rating of genre is Comedy, the mean_rating is: 3.3940734781442745  \n",
      "The mean of rating of genre is Crime, the mean_rating is: 3.6322780881440098  \n",
      "The mean of rating of genre is Documentary, the mean_rating is: 3.6728232189973613  \n",
      "The mean of rating of genre is Drama, the mean_rating is: 3.6873793708484772  \n",
      "The mean of rating of genre is Fantasy, the mean_rating is: 3.2152366863905324  \n",
      "The mean of rating of genre is Film-Noir, the mean_rating is: 3.9215233698788228  \n",
      "The mean of rating of genre is Horror, the mean_rating is: 3.2903893172841827  \n",
      "The mean of rating of genre is Musical, the mean_rating is: 3.521396851029471  \n",
      "The mean of rating of genre is Mystery, the mean_rating is: 3.63813155386082  \n",
      "The mean of rating of genre is Romance, the mean_rating is: 3.621704948358255  \n",
      "The mean of rating of genre is Sci-Fi, the mean_rating is: 3.5607227022780834  \n",
      "The mean of rating of genre is Thriller, the mean_rating is: 3.5090069495245064  \n",
      "The mean of rating of genre is War, the mean_rating is: 3.815811874866993  \n",
      "The mean of rating of genre is Western, the mean_rating is: 3.6132686084142396  \n"
     ]
    }
   ],
   "source": [
    "def get_ids_genres(x):\n",
    "    values= items[items[x]==1]['item_id'].values\n",
    "    genre_dic[x] = values\n",
    "for genre in genres :\n",
    "    get_ids_genres(genre)\n",
    "    \n",
    "        #gapminder.year.isin(years)\n",
    "for genre in genre_dic:\n",
    "    item_id =  genre_dic[genre]\n",
    "    mean_rating = data_movie_rating_added[data_movie_rating_added['item_id'].isin(item_id)]['rating'].mean()\n",
    "    \n",
    "    \n",
    "    print(\"The mean of rating of genre is {}, the mean_rating is: {}  \".format(genre,mean_rating))"
   ]
  },
  {
   "cell_type": "markdown",
   "metadata": {},
   "source": [
    "<b> Exericise 1 part 4 <b><br>\n",
    "1. i added another column in dataframe users 'age_bins' to categorize the age in the correct group pf every user<br>\n",
    "2. didn't have time to do the next steps right but i'll explain them <br>\n",
    "3. get the movies_ids corresponding to every age_bin<br>\n",
    "4. for every movie_id in them get the genres and keep count<br>\n",
    "5. after finishing looping for a specfic age_bin get the max count corresponding to the best genre<br>"
   ]
  },
  {
   "cell_type": "code",
   "execution_count": null,
   "metadata": {},
   "outputs": [],
   "source": [
    "users['age_bins'] = pd.cut(x=users['age'], bins=[1,10,19, 29, 39, 49,59,69,79],labels=['less_than_10','10s','20s', '30s', '40s','50s','60s','70s'])\n",
    "users.groupby('age_bins')['age_bins'].count()"
   ]
  },
  {
   "cell_type": "code",
   "execution_count": 182,
   "metadata": {},
   "outputs": [
    {
     "data": {
      "text/html": [
       "<div>\n",
       "<style scoped>\n",
       "    .dataframe tbody tr th:only-of-type {\n",
       "        vertical-align: middle;\n",
       "    }\n",
       "\n",
       "    .dataframe tbody tr th {\n",
       "        vertical-align: top;\n",
       "    }\n",
       "\n",
       "    .dataframe thead th {\n",
       "        text-align: right;\n",
       "    }\n",
       "</style>\n",
       "<table border=\"1\" class=\"dataframe\">\n",
       "  <thead>\n",
       "    <tr style=\"text-align: right;\">\n",
       "      <th></th>\n",
       "      <th>user_id</th>\n",
       "      <th>age</th>\n",
       "      <th>gender</th>\n",
       "      <th>occupation</th>\n",
       "      <th>zip_code</th>\n",
       "      <th>age_bins</th>\n",
       "    </tr>\n",
       "  </thead>\n",
       "  <tbody>\n",
       "    <tr>\n",
       "      <th>0</th>\n",
       "      <td>1</td>\n",
       "      <td>24</td>\n",
       "      <td>M</td>\n",
       "      <td>technician</td>\n",
       "      <td>85711</td>\n",
       "      <td>20s</td>\n",
       "    </tr>\n",
       "    <tr>\n",
       "      <th>1</th>\n",
       "      <td>2</td>\n",
       "      <td>53</td>\n",
       "      <td>F</td>\n",
       "      <td>other</td>\n",
       "      <td>94043</td>\n",
       "      <td>50s</td>\n",
       "    </tr>\n",
       "    <tr>\n",
       "      <th>2</th>\n",
       "      <td>3</td>\n",
       "      <td>23</td>\n",
       "      <td>M</td>\n",
       "      <td>writer</td>\n",
       "      <td>32067</td>\n",
       "      <td>20s</td>\n",
       "    </tr>\n",
       "    <tr>\n",
       "      <th>3</th>\n",
       "      <td>4</td>\n",
       "      <td>24</td>\n",
       "      <td>M</td>\n",
       "      <td>technician</td>\n",
       "      <td>43537</td>\n",
       "      <td>20s</td>\n",
       "    </tr>\n",
       "    <tr>\n",
       "      <th>4</th>\n",
       "      <td>5</td>\n",
       "      <td>33</td>\n",
       "      <td>F</td>\n",
       "      <td>other</td>\n",
       "      <td>15213</td>\n",
       "      <td>30s</td>\n",
       "    </tr>\n",
       "  </tbody>\n",
       "</table>\n",
       "</div>"
      ],
      "text/plain": [
       "   user_id  age gender  occupation zip_code age_bins\n",
       "0        1   24      M  technician    85711      20s\n",
       "1        2   53      F       other    94043      50s\n",
       "2        3   23      M      writer    32067      20s\n",
       "3        4   24      M  technician    43537      20s\n",
       "4        5   33      F       other    15213      30s"
      ]
     },
     "execution_count": 182,
     "metadata": {},
     "output_type": "execute_result"
    }
   ],
   "source": [
    "users.head()"
   ]
  },
  {
   "cell_type": "code",
   "execution_count": 205,
   "metadata": {},
   "outputs": [
    {
     "name": "stderr",
     "output_type": "stream",
     "text": [
      "/opt/anaconda3/lib/python3.7/site-packages/ipykernel_launcher.py:8: FutureWarning: Indexing with multiple keys (implicitly converted to a tuple of keys) will be deprecated, use a list instead.\n",
      "  \n"
     ]
    },
    {
     "data": {
      "text/plain": [
       "<pandas.core.groupby.generic.DataFrameGroupBy object at 0x12737be10>"
      ]
     },
     "execution_count": 205,
     "metadata": {},
     "output_type": "execute_result"
    }
   ],
   "source": [
    "age_bin_ids = {}\n",
    "user_id_per_bin = ''\n",
    "#print(users['user_id'])\n",
    "#print(Data['user_id'])\n",
    "\n",
    "Data_age_bins_Added =pd.merge(Data,users[['age_bins','user_id']] ,on = \"user_id\")\n",
    "#Data_age_bins_Added.head()\n",
    "Data_age_bins_Added.groupby('age_bins')['item_id','user_id']\n",
    "\n",
    "user_ids_twentys = age_bin_ids['20s']\n",
    "movie_ids= Data[Data['user_id'].isin(user_ids_twentys)]['item_id'].unique()\n",
    "items['genre'] = \"\"\n",
    "for genre in genre_dic:\n",
    "    for item_id in genre_dic[genre]:\n",
    "        items.loc[items.item_id == item_id,'genre'] = genre \n",
    "        \n",
    "for age_bin in age_bin_ids:\n",
    "    user_ids = age_bin_ids[age_bin]\n",
    "    movie_ids= Data[Data['user_id'].isin(user_ids)]['item_id'].unique()\n",
    "    most_loved_genre = items[items['item_id'].isin(movie_ids)].groupby(\"genre\")[\"genre\"].count().max(level=0)\n",
    "    print(\"the most loved genre by group {} is {}\".format(age_bin,most_loved_genre) )\n",
    "\n",
    "\n",
    "\n",
    "#print(users[users['user_id'] == 196])\n"
   ]
  },
  {
   "cell_type": "markdown",
   "metadata": {},
   "source": [
    "<b> Exercise_2 <b><br>\n",
    "1. i implmented the algorthim mentioned in the slides<br>\n",
    "2. it takes as an in input the Data, the learning_rate the reg_constant and the latent_dimensions<br>\n",
    "3. first of all it initalizes ratings_matrix to be zeroes and only fill the cells in which we have an actual rating\n",
    "we get the actual rating FROM the data.<br>\n",
    "Notice that we use user_id -1 and item_id -1 becauses users start from 1 and index start from 0 <br>\n",
    "4. we inialize P and Q with p number of rows is the number of rows of data and Q number of rows as columns of Data<br>\n",
    "5. we then loop as algorthim says and get the diff and update the values of correspoding p and q<br>\n",
    "6. return the prediction"
   ]
  },
  {
   "cell_type": "code",
   "execution_count": 267,
   "metadata": {},
   "outputs": [],
   "source": [
    "def LearnLatentFactors(Data,alpha,lamb,k):\n",
    "    ratings_matrix = np.zeros((len(all_users),len(items['item_id'].values)) ) \n",
    "    for ind in Data.index: \n",
    "         ratings_matrix[int(Data['user_id'][ind])-1][int(Data['item_id'][ind])-1]= Data['rating'][ind]\n",
    "    \n",
    "    latent_dimensions = k\n",
    "    mu = 0\n",
    "    sigma = 1\n",
    "    P = np.random.normal(mu, sigma, (ratings_matrix.shape[0],k))\n",
    "    Q = np.random.normal(mu, sigma, (ratings_matrix.shape[1],k))\n",
    "    N = len(ratings_matrix)\n",
    "    M = len(ratings_matrix[0])\n",
    "  #print('u is{},p is {},k is {}'.format(u,i,k))\n",
    "    for x in range(3):\n",
    "        for u in range(N):\n",
    "            i = 0\n",
    "            R_hat = P@Q.T\n",
    "            for i in range (M):\n",
    "                diff = ratings_matrix[u,i]- np.dot(P[u,:],Q.T[:,i])\n",
    "                #print ('diff is ', diff )\n",
    "                k =0\n",
    "                for k in range (latent_dimensions):\n",
    "                    #diff = Data[u][i]- np.dot(P[u,:],Q[:,i])\n",
    "                    #print(\"byd5ol gowa el k\")\n",
    "                    #print ('diff is',diff )\n",
    "                    P[u][k] = P[u][k] + alpha*(diff*Q[i][k] - lamb*(P[u][k]))\n",
    "                    Q[i][k] = Q[i][k] + alpha*(diff*P[u][k] - lamb*(Q[i][k]))\n",
    "        \n",
    "        #print(error)\n",
    "    #if(error < 1000):\n",
    "        #break;\n",
    "    #print( P@Q.T)\n",
    "    \n",
    "    return R_hat        \n",
    "                \n",
    "                    \n",
    "                "
   ]
  },
  {
   "cell_type": "markdown",
   "metadata": {},
   "source": [
    "<b> In the next cell<b><br>\n",
    "1. will call the method by the following values<br>\n",
    "2. the correct way was to try different values but i ran out of time, and i did that in the next question<br>\n",
    "3. now we have the prediction saved in vairable prediction<br>    \n",
    "    "
   ]
  },
  {
   "cell_type": "code",
   "execution_count": null,
   "metadata": {},
   "outputs": [],
   "source": [
    "prediction = LearnLatentFactors(Data,0.001,0.1,3)\n"
   ]
  },
  {
   "cell_type": "markdown",
   "metadata": {},
   "source": [
    "<b> the next method is for testing<b><br>\n",
    "1. we loop over the test_files every time we take a test file and get the difference between our prediction and theactual rating value in the test file <br>\n",
    "2. we calculate the error for every test_file and save it in an error_dic<b>\n",
    "3. you will find printed under the next cell the error for every test_file and the then the final RMSE Error\n"
   ]
  },
  {
   "cell_type": "code",
   "execution_count": 277,
   "metadata": {},
   "outputs": [
    {
     "name": "stdout",
     "output_type": "stream",
     "text": [
      "error for Test_file 1 is3.7173722221085663\n",
      "error for Test_file 2 is3.717699907183938\n",
      "error for Test_file 3 is3.693623169083445\n",
      "error for Test_file 4 is3.6910773804691686\n",
      "error for Test_file 5 is3.69447746215319\n",
      "The RMSE test_error is3.7028500281996615\n"
     ]
    }
   ],
   "source": [
    "\n",
    "def test_fact_marix(prediction):\n",
    "    \n",
    "    error_dic ={}\n",
    "    for  i in range(1,6):\n",
    "        file = \"\"\n",
    "        if i == 1:\n",
    "            file = 'ml-100k/u1.test'\n",
    "        if i == 2:\n",
    "            file = 'ml-100k/u2.test'\n",
    "        if i ==3:\n",
    "            file = 'ml-100k/u3.test'\n",
    "        if i==4:\n",
    "            file = 'ml-100k/u4.test'\n",
    "        if i ==5:\n",
    "            file = 'ml-100k/u5.test'\n",
    "        Test = pd.read_csv(file,sep='\\t',header = None,names =['user_id','item_id','rating','timestamp'] )\n",
    "        count = 0 \n",
    "        error = 0\n",
    "        for index, row in Test.iterrows():\n",
    "            predicted_rating = prediction[row['user_id']-1][row['item_id']-1]\n",
    "            Actual_rating =   row['rating']\n",
    "            error = error + (predicted_rating - Actual_rating)**2\n",
    "            count = count +1\n",
    "        error = np.sqrt(error/count)\n",
    "        error_dic[i] = error  \n",
    "        print(\"error for Test_file {} is{}\".format(i,error) )\n",
    "    Total_error = 0\n",
    "    for key,value in error_dic.items():\n",
    "        Total_error = Total_error + error_dic[key]\n",
    "    print(\"The RMSE test_error is{}\".format(Total_error/5) )    \n",
    "        \n",
    "\n",
    "test_fact_marix(prediction)    \n",
    "    \n",
    "\n"
   ]
  },
  {
   "cell_type": "code",
   "execution_count": null,
   "metadata": {},
   "outputs": [],
   "source": []
  },
  {
   "cell_type": "code",
   "execution_count": null,
   "metadata": {},
   "outputs": [],
   "source": []
  },
  {
   "cell_type": "code",
   "execution_count": null,
   "metadata": {},
   "outputs": [],
   "source": [
    "import numpy as np\n",
    "ratings_matrix = np.zeros((len(all_users),len(items['item_id'].values)) ) \n",
    "for ind in Data.index: \n",
    "     ratings_matrix[int(Data['user_id'][ind])-1][int(Data['item_id'][ind])-1]= Data['rating'][ind]\n",
    "     \n",
    "\n",
    "        \n",
    "    "
   ]
  },
  {
   "cell_type": "markdown",
   "metadata": {},
   "source": [
    "<b> Exercise 3 <b><br>\n",
    "1. This method uses The NMF of the sklearn for factorization<br>\n",
    "2. it takes the train_index and the test_index the shuffle and the alpha<br>\n",
    "3. starting inirtalize the training_matrix to be xeroes and oly fill the one in the train_index by getting its\n",
    "values from the ratig_matrix<br>\n",
    "4. using the NMF model we get the original matrix and factorize them to  2 matrices and we use them to get the prediction matrix<br>\n",
    "5. we then loop over the test_index which is for validation and get the error and return the error and the prediction model<br>"
   ]
  },
  {
   "cell_type": "code",
   "execution_count": 230,
   "metadata": {},
   "outputs": [],
   "source": [
    "from sklearn.decomposition import NMF\n",
    "from sklearn.model_selection import KFold\n",
    "from sklearn.metrics import mean_squared_error\n",
    "from math import sqrt\n",
    "paramters_dic = {}\n",
    "\n",
    "\n",
    "def Recommender_Systems (train_index,test_index,alpha,init,shuffle):\n",
    "    model = NMF(n_components=2, init=init, random_state=3116,shuffle = shuffle, alpha = alpha)\n",
    "    # make the ratings_matrix with the original dimensions and only fill the one with train_indicies\n",
    "    training_matrix = np.zeros((len(all_users),len(items['item_id'].values)) )\n",
    "    # fill the values from ratings_matrix \n",
    "    training_matrix[train_index] = ratings_matrix[train_index]\n",
    "    \n",
    "    P = model.fit_transform(training_matrix)\n",
    "    Q_transpose = model.components_\n",
    "    prediction = P@Q_transpose\n",
    "   \n",
    "    count = 0\n",
    "    error = 0\n",
    "    for x in range(0, len(test_index)):\n",
    "            diff  = np.sum(np.abs(prediction[x] - ratings_matrix[x] ))  \n",
    "            count = count + len(prediction[x])\n",
    "            error = error + diff\n",
    "    paramters_dic[str(alpha)+'_'+str(shuffle)+'_'+init] = error/count        \n",
    "    print(\"This is the validation error{} where paramters is alpha ={}, shuffle ={}, init = {}\".format(error/count,alpha,init,shuffle))\n",
    "    return  (error/count), prediction \n",
    "   \n",
    "\n"
   ]
  },
  {
   "cell_type": "markdown",
   "metadata": {},
   "source": [
    "<b> In the next method we usse paramter space to get the best prediction that will correspond to\n",
    "smallest validation error<br>\n",
    "1. we call the method for every set of paramters and save it in the dictionary and print it also, u'll find it\n",
    "behind the next cell"
   ]
  },
  {
   "cell_type": "code",
   "execution_count": 231,
   "metadata": {},
   "outputs": [
    {
     "name": "stdout",
     "output_type": "stream",
     "text": [
      "This is the validation error0.22896211992525906 where paramters is alpha =0.001, shuffle =random, init = True\n",
      "This is the validation error0.22896211992525906 where paramters is alpha =0.001, shuffle =random, init = False\n",
      "This is the validation error0.22896211992525906 where paramters is alpha =0.001, shuffle =nndsvd, init = True\n",
      "This is the validation error0.22896211992525906 where paramters is alpha =0.001, shuffle =nndsvd, init = False\n",
      "This is the validation error0.22896211992525906 where paramters is alpha =0.001, shuffle =nndsvda, init = True\n",
      "This is the validation error0.22896211992525906 where paramters is alpha =0.001, shuffle =nndsvda, init = False\n",
      "This is the validation error0.22896211992525906 where paramters is alpha =0.01, shuffle =random, init = True\n",
      "This is the validation error0.22896211992525906 where paramters is alpha =0.01, shuffle =random, init = False\n",
      "This is the validation error0.22896211992525906 where paramters is alpha =0.01, shuffle =nndsvd, init = True\n",
      "This is the validation error0.22896211992525906 where paramters is alpha =0.01, shuffle =nndsvd, init = False\n",
      "This is the validation error0.22896211992525906 where paramters is alpha =0.01, shuffle =nndsvda, init = True\n",
      "This is the validation error0.22896211992525906 where paramters is alpha =0.01, shuffle =nndsvda, init = False\n",
      "This is the validation error0.22896211992525906 where paramters is alpha =1, shuffle =random, init = True\n",
      "This is the validation error0.22896211992525906 where paramters is alpha =1, shuffle =random, init = False\n",
      "This is the validation error0.22896211992525906 where paramters is alpha =1, shuffle =nndsvd, init = True\n",
      "This is the validation error0.22896211992525906 where paramters is alpha =1, shuffle =nndsvd, init = False\n",
      "This is the validation error0.22896211992525906 where paramters is alpha =1, shuffle =nndsvda, init = True\n",
      "This is the validation error0.22896211992525906 where paramters is alpha =1, shuffle =nndsvda, init = False\n",
      "This is the validation error0.3150836354764364 where paramters is alpha =0.001, shuffle =random, init = True\n",
      "This is the validation error0.315083245002926 where paramters is alpha =0.001, shuffle =random, init = False\n",
      "This is the validation error0.31508392474471475 where paramters is alpha =0.001, shuffle =nndsvd, init = True\n",
      "This is the validation error0.3150838495731027 where paramters is alpha =0.001, shuffle =nndsvd, init = False\n",
      "This is the validation error0.31508380917445183 where paramters is alpha =0.001, shuffle =nndsvda, init = True\n",
      "This is the validation error0.31508360382300893 where paramters is alpha =0.001, shuffle =nndsvda, init = False\n",
      "This is the validation error0.31508182885701785 where paramters is alpha =0.01, shuffle =random, init = True\n",
      "This is the validation error0.31508132571697894 where paramters is alpha =0.01, shuffle =random, init = False\n",
      "This is the validation error0.31508141989733596 where paramters is alpha =0.01, shuffle =nndsvd, init = True\n",
      "This is the validation error0.3150822338381207 where paramters is alpha =0.01, shuffle =nndsvd, init = False\n",
      "This is the validation error0.31508039055184356 where paramters is alpha =0.01, shuffle =nndsvda, init = True\n",
      "This is the validation error0.31508159654967743 where paramters is alpha =0.01, shuffle =nndsvda, init = False\n",
      "This is the validation error0.31487615204923863 where paramters is alpha =1, shuffle =random, init = True\n",
      "This is the validation error0.3148716329718375 where paramters is alpha =1, shuffle =random, init = False\n",
      "This is the validation error0.3148740676860291 where paramters is alpha =1, shuffle =nndsvd, init = True\n",
      "This is the validation error0.31487644618727245 where paramters is alpha =1, shuffle =nndsvd, init = False\n",
      "This is the validation error0.31486980016713245 where paramters is alpha =1, shuffle =nndsvda, init = True\n",
      "This is the validation error0.3148739417059646 where paramters is alpha =1, shuffle =nndsvda, init = False\n",
      "This is the validation error0.312641034875848 where paramters is alpha =0.001, shuffle =random, init = True\n",
      "This is the validation error0.31263783694478076 where paramters is alpha =0.001, shuffle =random, init = False\n",
      "This is the validation error0.3126312201053659 where paramters is alpha =0.001, shuffle =nndsvd, init = True\n",
      "This is the validation error0.31263080084550965 where paramters is alpha =0.001, shuffle =nndsvd, init = False\n",
      "This is the validation error0.31263329891234026 where paramters is alpha =0.001, shuffle =nndsvda, init = True\n",
      "This is the validation error0.3126333264637209 where paramters is alpha =0.001, shuffle =nndsvda, init = False\n",
      "This is the validation error0.31263956509923363 where paramters is alpha =0.01, shuffle =random, init = True\n",
      "This is the validation error0.31263602272884583 where paramters is alpha =0.01, shuffle =random, init = False\n",
      "This is the validation error0.31262940855573323 where paramters is alpha =0.01, shuffle =nndsvd, init = True\n",
      "This is the validation error0.31262908330480815 where paramters is alpha =0.01, shuffle =nndsvd, init = False\n",
      "This is the validation error0.3126268669623687 where paramters is alpha =0.01, shuffle =nndsvda, init = True\n",
      "This is the validation error0.31263140864010747 where paramters is alpha =0.01, shuffle =nndsvda, init = False\n",
      "This is the validation error0.3124484325926204 where paramters is alpha =1, shuffle =random, init = True\n",
      "This is the validation error0.3124390818303219 where paramters is alpha =1, shuffle =random, init = False\n",
      "This is the validation error0.3124407199946603 where paramters is alpha =1, shuffle =nndsvd, init = True\n",
      "This is the validation error0.31244563858592495 where paramters is alpha =1, shuffle =nndsvd, init = False\n",
      "This is the validation error0.31243066095590116 where paramters is alpha =1, shuffle =nndsvda, init = True\n",
      "This is the validation error0.31244048469532343 where paramters is alpha =1, shuffle =nndsvda, init = False\n"
     ]
    }
   ],
   "source": [
    "\n",
    "def calling_system():\n",
    "    error = 100\n",
    "    paramter_space = {\n",
    "    'alpha':[0.001,0.01,1],\n",
    "    'shuffle':[True,False],\n",
    "    'init':['random', 'nndsvd', 'nndsvda'] \n",
    "     }\n",
    "    dic_prediction = {}\n",
    "    fold = KFold(n_splits = 3)\n",
    "    for train_index, test_index in fold.split(ratings_matrix):\n",
    "         for i in paramter_space['alpha']:\n",
    "                    for k in paramter_space['init']:\n",
    "                        for x in paramter_space['shuffle']: \n",
    "                            result = Recommender_Systems(train_index,test_index,  i,  k,x )\n",
    "                            dic_prediction[result[0]] = result[1] \n",
    "    \n",
    "    \n",
    "    return dic_prediction\n",
    "\n",
    "dic_prediction = calling_system()\n"
   ]
  },
  {
   "cell_type": "markdown",
   "metadata": {},
   "source": [
    "<b> This next cell is for getting the best prdiction matrix corresopnding to the smallest error </b>"
   ]
  },
  {
   "cell_type": "code",
   "execution_count": 234,
   "metadata": {},
   "outputs": [
    {
     "name": "stdout",
     "output_type": "stream",
     "text": [
      "0.22896211992525906\n"
     ]
    }
   ],
   "source": [
    "# first call the recommender system by the best paramters\n",
    "min_error = 1000 \n",
    "for key, value in dic_prediction.items():\n",
    "    #print(key)\n",
    "    if key < min_error:\n",
    "        min_error = key\n",
    "        print(key)\n",
    "        prediction = value\n",
    "        \n",
    "# now we have the best prediction we test on the test_files\n",
    "\n",
    "\n",
    "\n",
    "\n",
    "     \n",
    "    \n",
    "    \n",
    "    "
   ]
  },
  {
   "cell_type": "markdown",
   "metadata": {},
   "source": [
    "<b> The next cell is used for testing using the best prediction</b><br>\n",
    "1. exactly the same way i tested Exercise 2 <br>\n",
    "2. The test value for each test_file is printed and the average rmse is also printed under the next cell<br>\n"
   ]
  },
  {
   "cell_type": "code",
   "execution_count": 243,
   "metadata": {},
   "outputs": [
    {
     "name": "stdout",
     "output_type": "stream",
     "text": [
      "error for Test_file 1 is3.5158608496722183\n",
      "error for Test_file 2 is3.158947271188114\n",
      "error for Test_file 3 is2.931451179230123\n",
      "error for Test_file 4 is2.8316766741208994\n",
      "error for Test_file 5 is2.8138654213587224\n"
     ]
    }
   ],
   "source": [
    "Test = pd.read_csv('ml-100k/u1.test',sep='\\t',header = None,names =['user_id','item_id','rating','timestamp'] )\n",
    "Test.head()\n",
    "error_dic ={}\n",
    "for  i in range(1,6):\n",
    "    file = \"\"\n",
    "    if i == 1:\n",
    "        file = 'ml-100k/u1.test'\n",
    "    if i == 2:\n",
    "        file = 'ml-100k/u2.test'\n",
    "    if i ==3:\n",
    "        file = 'ml-100k/u3.test'\n",
    "    if i==4:\n",
    "        file = 'ml-100k/u4.test'\n",
    "    if i ==5:\n",
    "        file = 'ml-100k/u5.test'\n",
    "    Test = pd.read_csv(file,sep='\\t',header = None,names =['user_id','item_id','rating','timestamp'] )\n",
    "    count = 0 \n",
    "    error = 0\n",
    "    for index, row in Test.iterrows():\n",
    "        predicted_rating = prediction[row['user_id']-1][row['item_id']-1]\n",
    "        Actual_rating =   row['rating']\n",
    "        error = error + (predicted_rating - Actual_rating)**2\n",
    "        count = count +1\n",
    "    error = np.sqrt(error/count)\n",
    "    error_dic[i] = error  \n",
    "    print(\"error for Test_file {} is{}\".format(i,error) )\n",
    "        \n",
    "    \n",
    "        \n",
    "    \n",
    "\n"
   ]
  },
  {
   "cell_type": "markdown",
   "metadata": {},
   "source": [
    "<b>TotaL_Error_rmse is printed under the next cell <b>"
   ]
  },
  {
   "cell_type": "code",
   "execution_count": 245,
   "metadata": {},
   "outputs": [
    {
     "name": "stdout",
     "output_type": "stream",
     "text": [
      "RMSE_TEST_ERROR IS3.0503602791140154\n"
     ]
    }
   ],
   "source": [
    "Total_error = 0\n",
    "for key, value in error_dic.items():\n",
    "        Total_error = Total_error + error_dic[key]\n",
    "print (\"RMSE_TEST_ERROR IS{}\".format(Total_error/5) )        \n",
    "    "
   ]
  },
  {
   "cell_type": "markdown",
   "metadata": {},
   "source": [
    "<b>It can be seen that using that Rmse of the model using sklearn is better than than the model implmented in Exercise 2<b>"
   ]
  },
  {
   "cell_type": "code",
   "execution_count": null,
   "metadata": {},
   "outputs": [],
   "source": []
  }
 ],
 "metadata": {
  "kernelspec": {
   "display_name": "Python 3",
   "language": "python",
   "name": "python3"
  },
  "language_info": {
   "codemirror_mode": {
    "name": "ipython",
    "version": 3
   },
   "file_extension": ".py",
   "mimetype": "text/x-python",
   "name": "python",
   "nbconvert_exporter": "python",
   "pygments_lexer": "ipython3",
   "version": "3.7.6"
  }
 },
 "nbformat": 4,
 "nbformat_minor": 4
}
