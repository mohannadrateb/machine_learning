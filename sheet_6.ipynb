{
 "cells": [
  {
   "cell_type": "code",
   "execution_count": 505,
   "metadata": {},
   "outputs": [],
   "source": [
    "import pandas as pd\n",
    "import numpy as np \n",
    "\n",
    "import itertools\n",
    "from sklearn.linear_model import SGDRegressor\n",
    "from sklearn.linear_model import Ridge\n",
    "from sklearn.linear_model import Lasso\n",
    "from sklearn.preprocessing import PolynomialFeatures"
   ]
  },
  {
   "cell_type": "code",
   "execution_count": 488,
   "metadata": {},
   "outputs": [],
   "source": [
    "np.random.seed(3116)"
   ]
  },
  {
   "cell_type": "markdown",
   "metadata": {},
   "source": [
    "<b> Exercise 0-- <b>\n",
    "<b>Generating D1 Dataset<b>"
   ]
  },
  {
   "cell_type": "code",
   "execution_count": 494,
   "metadata": {},
   "outputs": [
    {
     "name": "stdout",
     "output_type": "stream",
     "text": [
      "0.5442624122619674\n",
      "[0.99526708 1.00975643 0.9902751  0.98921667 1.02855355 0.99297211\n",
      " 0.94841123 1.04048064 0.96237656 0.95696986 1.04102862 1.01969218\n",
      " 1.03525446 1.00493024 0.97444795 0.98013086 1.01435173 0.98126587\n",
      " 0.9022223  1.10396183 0.95975051 1.04174774 0.99490866 0.95999958\n",
      " 0.9273906  0.98819527 1.05431913 0.9236436  1.08737406 0.89057321\n",
      " 1.01599445 1.02271972 1.01767771 0.95595606 0.96904433 0.94751388\n",
      " 1.01208692 0.91759453 1.03667332 1.01563695 0.99534661 0.96125517\n",
      " 1.02174883 0.99473729 1.05301825 1.1137125  1.03213772 1.03170677\n",
      " 1.05802012 1.00803324 1.04269146 1.03926963 1.03402696 1.02974745\n",
      " 0.95783589 0.94085187 0.94993268 0.92055744 1.02776776 0.94116263\n",
      " 1.07181329 0.97825356 0.92895897 1.10578465 0.96968977 1.10883769\n",
      " 1.02368635 0.97666991 1.06034097 1.08392066 1.00515072 0.97362402\n",
      " 0.96252906 1.02922125 1.00380999 1.07019155 1.03574878 0.98218251\n",
      " 0.95240501 1.04516162 0.98719144 0.93688636 1.00768735 1.09367221\n",
      " 1.01259665 0.98347729 0.93003332 0.99370746 1.05977903 1.04421953\n",
      " 1.00860758 0.95669784 1.06032893 1.10614882 0.90697833 0.99485569\n",
      " 1.07666002 1.01098087 1.01864028 1.00790914]\n"
     ]
    }
   ],
   "source": [
    "np.random.seed(3116)\n",
    "D1 = np.random.normal(1, 0.05, 100)\n",
    "r = np.random.rand()\n",
    "print(r)\n",
    "function_y = lambda x : 1.3* (x**2) + 4.8*(x) + 8 +r\n",
    "y = function_y(x)\n",
    "\n",
    "print(D1)\n",
    "\n",
    "\n",
    "\n",
    "\n"
   ]
  },
  {
   "cell_type": "code",
   "execution_count": 508,
   "metadata": {},
   "outputs": [
    {
     "name": "stdout",
     "output_type": "stream",
     "text": [
      "['fixed acidity', 'volatile acidity', 'citric acid', 'residual sugar', 'chlorides', 'free sulfur dioxide', 'total sulfur dioxide', 'density', 'pH', 'sulphates', 'alcohol']\n"
     ]
    },
    {
     "data": {
      "text/html": [
       "<div>\n",
       "<style scoped>\n",
       "    .dataframe tbody tr th:only-of-type {\n",
       "        vertical-align: middle;\n",
       "    }\n",
       "\n",
       "    .dataframe tbody tr th {\n",
       "        vertical-align: top;\n",
       "    }\n",
       "\n",
       "    .dataframe thead th {\n",
       "        text-align: right;\n",
       "    }\n",
       "</style>\n",
       "<table border=\"1\" class=\"dataframe\">\n",
       "  <thead>\n",
       "    <tr style=\"text-align: right;\">\n",
       "      <th></th>\n",
       "      <th>fixed acidity</th>\n",
       "      <th>volatile acidity</th>\n",
       "      <th>citric acid</th>\n",
       "      <th>residual sugar</th>\n",
       "      <th>chlorides</th>\n",
       "      <th>free sulfur dioxide</th>\n",
       "      <th>total sulfur dioxide</th>\n",
       "      <th>density</th>\n",
       "      <th>pH</th>\n",
       "      <th>sulphates</th>\n",
       "      <th>alcohol</th>\n",
       "      <th>quality</th>\n",
       "    </tr>\n",
       "  </thead>\n",
       "  <tbody>\n",
       "    <tr>\n",
       "      <th>count</th>\n",
       "      <td>1.599000e+03</td>\n",
       "      <td>1.599000e+03</td>\n",
       "      <td>1.599000e+03</td>\n",
       "      <td>1.599000e+03</td>\n",
       "      <td>1.599000e+03</td>\n",
       "      <td>1.599000e+03</td>\n",
       "      <td>1.599000e+03</td>\n",
       "      <td>1.599000e+03</td>\n",
       "      <td>1.599000e+03</td>\n",
       "      <td>1.599000e+03</td>\n",
       "      <td>1.599000e+03</td>\n",
       "      <td>1599.000000</td>\n",
       "    </tr>\n",
       "    <tr>\n",
       "      <th>mean</th>\n",
       "      <td>-1.570643e-14</td>\n",
       "      <td>-1.590973e-15</td>\n",
       "      <td>6.045057e-15</td>\n",
       "      <td>-1.344696e-15</td>\n",
       "      <td>5.098590e-15</td>\n",
       "      <td>-7.724347e-17</td>\n",
       "      <td>1.619856e-16</td>\n",
       "      <td>3.772732e-13</td>\n",
       "      <td>-5.937923e-15</td>\n",
       "      <td>-2.175036e-15</td>\n",
       "      <td>2.580411e-14</td>\n",
       "      <td>5.636023</td>\n",
       "    </tr>\n",
       "    <tr>\n",
       "      <th>std</th>\n",
       "      <td>1.000000e+00</td>\n",
       "      <td>1.000000e+00</td>\n",
       "      <td>1.000000e+00</td>\n",
       "      <td>1.000000e+00</td>\n",
       "      <td>1.000000e+00</td>\n",
       "      <td>1.000000e+00</td>\n",
       "      <td>1.000000e+00</td>\n",
       "      <td>1.000000e+00</td>\n",
       "      <td>1.000000e+00</td>\n",
       "      <td>1.000000e+00</td>\n",
       "      <td>1.000000e+00</td>\n",
       "      <td>0.807569</td>\n",
       "    </tr>\n",
       "    <tr>\n",
       "      <th>min</th>\n",
       "      <td>-2.136377e+00</td>\n",
       "      <td>-2.277567e+00</td>\n",
       "      <td>-1.391037e+00</td>\n",
       "      <td>-1.162333e+00</td>\n",
       "      <td>-1.603443e+00</td>\n",
       "      <td>-1.422055e+00</td>\n",
       "      <td>-1.230199e+00</td>\n",
       "      <td>-3.537625e+00</td>\n",
       "      <td>-3.699244e+00</td>\n",
       "      <td>-1.935902e+00</td>\n",
       "      <td>-1.898325e+00</td>\n",
       "      <td>3.000000</td>\n",
       "    </tr>\n",
       "    <tr>\n",
       "      <th>25%</th>\n",
       "      <td>-7.004996e-01</td>\n",
       "      <td>-7.696903e-01</td>\n",
       "      <td>-9.290275e-01</td>\n",
       "      <td>-4.530767e-01</td>\n",
       "      <td>-3.711129e-01</td>\n",
       "      <td>-8.484502e-01</td>\n",
       "      <td>-7.438076e-01</td>\n",
       "      <td>-6.075656e-01</td>\n",
       "      <td>-6.549356e-01</td>\n",
       "      <td>-6.380200e-01</td>\n",
       "      <td>-8.661079e-01</td>\n",
       "      <td>5.000000</td>\n",
       "    </tr>\n",
       "    <tr>\n",
       "      <th>50%</th>\n",
       "      <td>-2.410190e-01</td>\n",
       "      <td>-4.367545e-02</td>\n",
       "      <td>-5.634264e-02</td>\n",
       "      <td>-2.402999e-01</td>\n",
       "      <td>-1.798892e-01</td>\n",
       "      <td>-1.792441e-01</td>\n",
       "      <td>-2.574163e-01</td>\n",
       "      <td>1.759533e-03</td>\n",
       "      <td>-7.210449e-03</td>\n",
       "      <td>-2.250577e-01</td>\n",
       "      <td>-2.092427e-01</td>\n",
       "      <td>6.000000</td>\n",
       "    </tr>\n",
       "    <tr>\n",
       "      <th>75%</th>\n",
       "      <td>5.056370e-01</td>\n",
       "      <td>6.264921e-01</td>\n",
       "      <td>7.650078e-01</td>\n",
       "      <td>4.340257e-02</td>\n",
       "      <td>5.382858e-02</td>\n",
       "      <td>4.899619e-01</td>\n",
       "      <td>4.721707e-01</td>\n",
       "      <td>5.766445e-01</td>\n",
       "      <td>5.757422e-01</td>\n",
       "      <td>4.238832e-01</td>\n",
       "      <td>6.352984e-01</td>\n",
       "      <td>6.000000</td>\n",
       "    </tr>\n",
       "    <tr>\n",
       "      <th>max</th>\n",
       "      <td>4.353787e+00</td>\n",
       "      <td>5.876138e+00</td>\n",
       "      <td>3.742403e+00</td>\n",
       "      <td>9.192806e+00</td>\n",
       "      <td>1.112355e+01</td>\n",
       "      <td>5.365606e+00</td>\n",
       "      <td>7.372847e+00</td>\n",
       "      <td>3.678904e+00</td>\n",
       "      <td>4.526866e+00</td>\n",
       "      <td>7.916200e+00</td>\n",
       "      <td>4.201138e+00</td>\n",
       "      <td>8.000000</td>\n",
       "    </tr>\n",
       "  </tbody>\n",
       "</table>\n",
       "</div>"
      ],
      "text/plain": [
       "       fixed acidity  volatile acidity   citric acid  residual sugar  \\\n",
       "count   1.599000e+03      1.599000e+03  1.599000e+03    1.599000e+03   \n",
       "mean   -1.570643e-14     -1.590973e-15  6.045057e-15   -1.344696e-15   \n",
       "std     1.000000e+00      1.000000e+00  1.000000e+00    1.000000e+00   \n",
       "min    -2.136377e+00     -2.277567e+00 -1.391037e+00   -1.162333e+00   \n",
       "25%    -7.004996e-01     -7.696903e-01 -9.290275e-01   -4.530767e-01   \n",
       "50%    -2.410190e-01     -4.367545e-02 -5.634264e-02   -2.402999e-01   \n",
       "75%     5.056370e-01      6.264921e-01  7.650078e-01    4.340257e-02   \n",
       "max     4.353787e+00      5.876138e+00  3.742403e+00    9.192806e+00   \n",
       "\n",
       "          chlorides  free sulfur dioxide  total sulfur dioxide       density  \\\n",
       "count  1.599000e+03         1.599000e+03          1.599000e+03  1.599000e+03   \n",
       "mean   5.098590e-15        -7.724347e-17          1.619856e-16  3.772732e-13   \n",
       "std    1.000000e+00         1.000000e+00          1.000000e+00  1.000000e+00   \n",
       "min   -1.603443e+00        -1.422055e+00         -1.230199e+00 -3.537625e+00   \n",
       "25%   -3.711129e-01        -8.484502e-01         -7.438076e-01 -6.075656e-01   \n",
       "50%   -1.798892e-01        -1.792441e-01         -2.574163e-01  1.759533e-03   \n",
       "75%    5.382858e-02         4.899619e-01          4.721707e-01  5.766445e-01   \n",
       "max    1.112355e+01         5.365606e+00          7.372847e+00  3.678904e+00   \n",
       "\n",
       "                 pH     sulphates       alcohol      quality  \n",
       "count  1.599000e+03  1.599000e+03  1.599000e+03  1599.000000  \n",
       "mean  -5.937923e-15 -2.175036e-15  2.580411e-14     5.636023  \n",
       "std    1.000000e+00  1.000000e+00  1.000000e+00     0.807569  \n",
       "min   -3.699244e+00 -1.935902e+00 -1.898325e+00     3.000000  \n",
       "25%   -6.549356e-01 -6.380200e-01 -8.661079e-01     5.000000  \n",
       "50%   -7.210449e-03 -2.250577e-01 -2.092427e-01     6.000000  \n",
       "75%    5.757422e-01  4.238832e-01  6.352984e-01     6.000000  \n",
       "max    4.526866e+00  7.916200e+00  4.201138e+00     8.000000  "
      ]
     },
     "execution_count": 508,
     "metadata": {},
     "output_type": "execute_result"
    }
   ],
   "source": [
    "D2 =pd.read_csv(\"winequality-red.csv\", delimiter =\";\")\n",
    "list_cloumn_names = ['fixed acidity','volatile acidity','citric acid','residual sugar','chlorides','free sulfur dioxide','total sulfur dioxide','density','pH','sulphates','alcohol']\n",
    "print(list_cloumn_names)\n",
    "def normalize_data(list_cloumn_names):\n",
    " for x in list_cloumn_names :\n",
    "    mean = D2.mean(axis =0)[x]\n",
    "    std  = D2.std(axis = 0)[x]\n",
    "    D2[x] = D2[x].map(lambda x: (x - mean)/std )\n",
    "\n",
    "normalize_data(list_cloumn_names)\n",
    "D2.head()\n",
    "D2.describe()"
   ]
  },
  {
   "cell_type": "code",
   "execution_count": null,
   "metadata": {},
   "outputs": [],
   "source": []
  },
  {
   "cell_type": "code",
   "execution_count": null,
   "metadata": {},
   "outputs": [],
   "source": []
  },
  {
   "cell_type": "code",
   "execution_count": 312,
   "metadata": {},
   "outputs": [],
   "source": [
    "def sgd_ref_type(type):\n",
    "    #loss_set = ['hinge', 'log', 'modified_huber','squared_loss']  \n",
    "    learning_rate = [ 'constant', 'optimal', 'invscaling', 'adaptive']\n",
    "    alpha = [0.001, 0.01, 0.1, 0.1, 1, 10]\n",
    "    eta0 = [0.001,0.01,0.1,1 ] \n",
    "    rmse_train =[None] * (len(learning_rate)* len(alpha)*len(eta0))\n",
    "    rmse_test = [None] * (len(learning_rate)* len(alpha)*len(eta0))\n",
    "    if type == 'Ordinary Least Squares':\n",
    "           for i,alpha_v in enumerate(alpha):\n",
    "                for j,learning_rate_v in enumerate(learning_rate):\n",
    "                    for k,eta in enumerate(eta0):\n",
    "                        sgd_ordinary_loss = SGDRegressor(max_iter=10000,penalty = None ,loss='squared_loss',learning_rate =learning_rate_v,eta0 = eta,alpha= alpha_v )\n",
    "                        sgd_ordinary_loss.fit(X_train, y_train)\n",
    "                        ordinary_pred_train = sgd_ordinary_loss.predict(X_train)\n",
    "                        ordinary_pred_test = sgd_ordinary_loss.predict(X_test)\n",
    "                        rmse_train[i*j+k]  = mean_squared_error(ordinary_pred_train,y_train,squared=False)\n",
    "                        rmse_test[i*j+k] = mean_squared_error(ordinary_pred_test,y_test,squared=False)\n",
    "                        print( \"for alpha = {} and learning_rate = {} and eta0 = {}, rsme_tain ={} and rmse_test ={}\".format(alpha_v,learning_rate_v,eta,rmse_train[i*j+k],rmse_test[i*j+k]) )\n",
    "                        \n",
    "                \n",
    "        \n",
    "    elif type == 'Ridge Regression':\n",
    "           for i,alpha_v in enumerate(alpha):\n",
    "                for j,learning_rate_v in enumerate(learning_rate):\n",
    "                    for k,eta in enumerate(eta0):\n",
    "                        sgd_ridge_regression = SGDRegressor(max_iter=10000, penalty = 'l2',learning_rate =learning_rate_v,eta0 = eta,alpha= alpha_v  )\n",
    "                        sgd_ridge_regression.fit(X_train, y_train)\n",
    "                        ridge_pred_train = sgd_ridge_regression.predict(X_train)\n",
    "                        ridge_pred_test = sgd_ridge_regression.predict(X_test)\n",
    "                        rmse_train[i*j+k]  = mean_squared_error(ridge_pred_train,y_train,squared=False)\n",
    "                        rmse_test[i*j+k] = mean_squared_error(ridge_pred_test,y_test,squared=False)\n",
    "    elif type == 'LASSO':\n",
    "         for i,alpha_v in enumerate(alpha):\n",
    "                for j,learning_rate_v in enumerate(learning_rate):\n",
    "                    for k,eta in enumerate(eta0):\n",
    "                        sgd_lasso = SGDRegressor(max_iter=10000,penalty = 'l1',learning_rate =learning_rate_v,eta0 = eta,alpha= alpha_v  )\n",
    "                        sgd_lasso.fit(X_train, y_train)\n",
    "                        ordinary_pred_train = sgd_lasso.predict(X_train)\n",
    "                        ordinary_pred_test = sgd_lasso.predict(X_test)\n",
    "                        rmse_test[i*j+k]  = mean_squared_error(ordinary_pred_train,y_train,squared=False)\n",
    "                        rmse_test[i*j+k] = mean_squared_error(ordinary_pred_test,y_test,squared=False)\n",
    "    return rmse_train,rmse_test      \n",
    "\n"
   ]
  },
  {
   "cell_type": "code",
   "execution_count": 509,
   "metadata": {},
   "outputs": [
    {
     "name": "stdout",
     "output_type": "stream",
     "text": [
      "for alpha = 0.001 and learning_rate = constant and eta0 = 0.001, rsme_tain =0.6552274623172153 and rmse_test =0.6188076421658893\n",
      "for alpha = 0.001 and learning_rate = constant and eta0 = 0.01, rsme_tain =0.67706162742528 and rmse_test =0.6485170841595016\n",
      "for alpha = 0.001 and learning_rate = constant and eta0 = 0.1, rsme_tain =134613408.6140429 and rmse_test =121289958.11799951\n",
      "for alpha = 0.001 and learning_rate = constant and eta0 = 1, rsme_tain =10813810135417.549 and rmse_test =11376350050161.992\n",
      "for alpha = 0.001 and learning_rate = optimal and eta0 = 0.001, rsme_tain =0.6708369197829439 and rmse_test =0.651256808461172\n",
      "for alpha = 0.001 and learning_rate = optimal and eta0 = 0.01, rsme_tain =0.6941774973777908 and rmse_test =0.6369449965708303\n",
      "for alpha = 0.001 and learning_rate = optimal and eta0 = 0.1, rsme_tain =0.6720323688756927 and rmse_test =0.6304250695854053\n",
      "for alpha = 0.001 and learning_rate = optimal and eta0 = 1, rsme_tain =0.687105480363362 and rmse_test =0.6428803458409029\n",
      "for alpha = 0.001 and learning_rate = invscaling and eta0 = 0.001, rsme_tain =0.6577583209660335 and rmse_test =0.6153176060339868\n",
      "for alpha = 0.001 and learning_rate = invscaling and eta0 = 0.01, rsme_tain =0.6541319641877378 and rmse_test =0.6144097009209463\n",
      "for alpha = 0.001 and learning_rate = invscaling and eta0 = 0.1, rsme_tain =0.6769957703426052 and rmse_test =0.627465864606517\n",
      "for alpha = 0.001 and learning_rate = invscaling and eta0 = 1, rsme_tain =621.8598771746872 and rmse_test =622.4848679325789\n",
      "for alpha = 0.001 and learning_rate = adaptive and eta0 = 0.001, rsme_tain =0.6536893585998514 and rmse_test =0.6148489487162271\n",
      "for alpha = 0.001 and learning_rate = adaptive and eta0 = 0.01, rsme_tain =0.6536676657926392 and rmse_test =0.6148922819316907\n",
      "for alpha = 0.001 and learning_rate = adaptive and eta0 = 0.1, rsme_tain =39213.516337610534 and rmse_test =36570.42792798306\n",
      "for alpha = 0.001 and learning_rate = adaptive and eta0 = 1, rsme_tain =0.6536576657442453 and rmse_test =0.6147994650396253\n",
      "for alpha = 0.01 and learning_rate = constant and eta0 = 0.001, rsme_tain =0.6539682171050134 and rmse_test =0.6160652210807905\n",
      "for alpha = 0.01 and learning_rate = constant and eta0 = 0.01, rsme_tain =0.6726221308233737 and rmse_test =0.6225471342872684\n",
      "for alpha = 0.01 and learning_rate = constant and eta0 = 0.1, rsme_tain =18840816822.15385 and rmse_test =15185743981.530945\n",
      "for alpha = 0.01 and learning_rate = constant and eta0 = 1, rsme_tain =8776552920222.017 and rmse_test =8753953701542.127\n",
      "for alpha = 0.01 and learning_rate = optimal and eta0 = 0.001, rsme_tain =0.6560022742187636 and rmse_test =0.6194056676196471\n",
      "for alpha = 0.01 and learning_rate = optimal and eta0 = 0.01, rsme_tain =0.6571347775991073 and rmse_test =0.6158420928910145\n",
      "for alpha = 0.01 and learning_rate = optimal and eta0 = 0.1, rsme_tain =0.6543239374329791 and rmse_test =0.6148874648947945\n",
      "for alpha = 0.01 and learning_rate = optimal and eta0 = 1, rsme_tain =0.6583650982262476 and rmse_test =0.6173520867539203\n",
      "for alpha = 0.01 and learning_rate = invscaling and eta0 = 0.001, rsme_tain =0.6577541093653523 and rmse_test =0.6152243834931865\n",
      "for alpha = 0.01 and learning_rate = invscaling and eta0 = 0.01, rsme_tain =0.6539016640559919 and rmse_test =0.6145921326667706\n",
      "for alpha = 0.01 and learning_rate = invscaling and eta0 = 0.1, rsme_tain =0.6791492544526738 and rmse_test =0.6475551986359148\n",
      "for alpha = 0.01 and learning_rate = invscaling and eta0 = 1, rsme_tain =103972539.55902019 and rmse_test =97087908.82971768\n",
      "for alpha = 0.01 and learning_rate = adaptive and eta0 = 0.001, rsme_tain =0.6537040927026836 and rmse_test =0.6151570678200807\n",
      "for alpha = 0.01 and learning_rate = adaptive and eta0 = 0.01, rsme_tain =0.6536522922619279 and rmse_test =0.61470767122781\n",
      "for alpha = 0.01 and learning_rate = adaptive and eta0 = 0.1, rsme_tain =2592959.1576518025 and rmse_test =2416334.633406391\n",
      "for alpha = 0.01 and learning_rate = adaptive and eta0 = 1, rsme_tain =0.6536576383512139 and rmse_test =0.6151283020580847\n",
      "for alpha = 0.1 and learning_rate = constant and eta0 = 0.001, rsme_tain =0.6537937130807466 and rmse_test =0.6154008340814989\n",
      "for alpha = 0.1 and learning_rate = constant and eta0 = 0.01, rsme_tain =0.6846908819973585 and rmse_test =0.6233441993385023\n",
      "for alpha = 0.1 and learning_rate = constant and eta0 = 0.1, rsme_tain =21634568511.104343 and rmse_test =21708617259.021183\n",
      "for alpha = 0.1 and learning_rate = constant and eta0 = 1, rsme_tain =9712177223932.652 and rmse_test =9690166048891.91\n"
     ]
    },
    {
     "name": "stderr",
     "output_type": "stream",
     "text": [
      "/opt/anaconda3/lib/python3.7/site-packages/sklearn/linear_model/_stochastic_gradient.py:1187: ConvergenceWarning: Maximum number of iteration reached before convergence. Consider increasing max_iter to improve the fit.\n",
      "  ConvergenceWarning)\n"
     ]
    },
    {
     "name": "stdout",
     "output_type": "stream",
     "text": [
      "for alpha = 0.1 and learning_rate = optimal and eta0 = 0.001, rsme_tain =3980.247730452507 and rmse_test =3710.8574375426406\n"
     ]
    },
    {
     "name": "stderr",
     "output_type": "stream",
     "text": [
      "/opt/anaconda3/lib/python3.7/site-packages/sklearn/linear_model/_stochastic_gradient.py:1187: ConvergenceWarning: Maximum number of iteration reached before convergence. Consider increasing max_iter to improve the fit.\n",
      "  ConvergenceWarning)\n"
     ]
    },
    {
     "name": "stdout",
     "output_type": "stream",
     "text": [
      "for alpha = 0.1 and learning_rate = optimal and eta0 = 0.01, rsme_tain =139896.65385241152 and rmse_test =130428.66098692232\n"
     ]
    },
    {
     "name": "stderr",
     "output_type": "stream",
     "text": [
      "/opt/anaconda3/lib/python3.7/site-packages/sklearn/linear_model/_stochastic_gradient.py:1187: ConvergenceWarning: Maximum number of iteration reached before convergence. Consider increasing max_iter to improve the fit.\n",
      "  ConvergenceWarning)\n"
     ]
    },
    {
     "name": "stdout",
     "output_type": "stream",
     "text": [
      "for alpha = 0.1 and learning_rate = optimal and eta0 = 0.1, rsme_tain =2016276.6169736558 and rmse_test =1879817.9252815912\n"
     ]
    },
    {
     "name": "stderr",
     "output_type": "stream",
     "text": [
      "/opt/anaconda3/lib/python3.7/site-packages/sklearn/linear_model/_stochastic_gradient.py:1187: ConvergenceWarning: Maximum number of iteration reached before convergence. Consider increasing max_iter to improve the fit.\n",
      "  ConvergenceWarning)\n"
     ]
    },
    {
     "name": "stdout",
     "output_type": "stream",
     "text": [
      "for alpha = 0.1 and learning_rate = optimal and eta0 = 1, rsme_tain =4957916.388680339 and rmse_test =4622370.9821795225\n",
      "for alpha = 0.1 and learning_rate = invscaling and eta0 = 0.001, rsme_tain =0.6577556924221446 and rmse_test =0.6151236813700159\n",
      "for alpha = 0.1 and learning_rate = invscaling and eta0 = 0.01, rsme_tain =0.6540599654332276 and rmse_test =0.6137427812694698\n",
      "for alpha = 0.1 and learning_rate = invscaling and eta0 = 0.1, rsme_tain =0.6711425702011752 and rmse_test =0.6403420298558541\n",
      "for alpha = 0.1 and learning_rate = invscaling and eta0 = 1, rsme_tain =3.440763857286272 and rmse_test =3.0189299181548237\n",
      "for alpha = 0.1 and learning_rate = adaptive and eta0 = 0.001, rsme_tain =0.6537028223383173 and rmse_test =0.6147468869488613\n",
      "for alpha = 0.1 and learning_rate = adaptive and eta0 = 0.01, rsme_tain =0.6536547200700542 and rmse_test =0.6151447680577894\n",
      "for alpha = 0.1 and learning_rate = adaptive and eta0 = 0.1, rsme_tain =1311719.4092974397 and rmse_test =1222377.754875446\n",
      "for alpha = 0.1 and learning_rate = adaptive and eta0 = 1, rsme_tain =0.6536531708670186 and rmse_test =0.6144109481019481\n",
      "for alpha = 0.1 and learning_rate = constant and eta0 = 0.001, rsme_tain =0.6543864121534523 and rmse_test =0.6132655121587315\n",
      "for alpha = 0.1 and learning_rate = constant and eta0 = 0.01, rsme_tain =0.662177840597904 and rmse_test =0.6161723849316209\n",
      "for alpha = 0.1 and learning_rate = constant and eta0 = 0.1, rsme_tain =5140367.72920709 and rmse_test =5053385.858080802\n",
      "for alpha = 0.1 and learning_rate = constant and eta0 = 1, rsme_tain =6216599629946.435 and rmse_test =5406413938741.629\n"
     ]
    },
    {
     "name": "stderr",
     "output_type": "stream",
     "text": [
      "/opt/anaconda3/lib/python3.7/site-packages/sklearn/linear_model/_stochastic_gradient.py:1187: ConvergenceWarning: Maximum number of iteration reached before convergence. Consider increasing max_iter to improve the fit.\n",
      "  ConvergenceWarning)\n"
     ]
    },
    {
     "name": "stdout",
     "output_type": "stream",
     "text": [
      "for alpha = 0.1 and learning_rate = optimal and eta0 = 0.001, rsme_tain =138.85638267401401 and rmse_test =129.47214084381417\n"
     ]
    },
    {
     "name": "stderr",
     "output_type": "stream",
     "text": [
      "/opt/anaconda3/lib/python3.7/site-packages/sklearn/linear_model/_stochastic_gradient.py:1187: ConvergenceWarning: Maximum number of iteration reached before convergence. Consider increasing max_iter to improve the fit.\n",
      "  ConvergenceWarning)\n"
     ]
    },
    {
     "name": "stdout",
     "output_type": "stream",
     "text": [
      "for alpha = 0.1 and learning_rate = optimal and eta0 = 0.01, rsme_tain =117112.11351494692 and rmse_test =109186.11363227657\n"
     ]
    },
    {
     "name": "stderr",
     "output_type": "stream",
     "text": [
      "/opt/anaconda3/lib/python3.7/site-packages/sklearn/linear_model/_stochastic_gradient.py:1187: ConvergenceWarning: Maximum number of iteration reached before convergence. Consider increasing max_iter to improve the fit.\n",
      "  ConvergenceWarning)\n"
     ]
    },
    {
     "name": "stdout",
     "output_type": "stream",
     "text": [
      "for alpha = 0.1 and learning_rate = optimal and eta0 = 0.1, rsme_tain =792.2194787575378 and rmse_test =738.5899155053619\n"
     ]
    },
    {
     "name": "stderr",
     "output_type": "stream",
     "text": [
      "/opt/anaconda3/lib/python3.7/site-packages/sklearn/linear_model/_stochastic_gradient.py:1187: ConvergenceWarning: Maximum number of iteration reached before convergence. Consider increasing max_iter to improve the fit.\n",
      "  ConvergenceWarning)\n"
     ]
    },
    {
     "name": "stdout",
     "output_type": "stream",
     "text": [
      "for alpha = 0.1 and learning_rate = optimal and eta0 = 1, rsme_tain =2324.87562571843 and rmse_test =2167.5177683809793\n",
      "for alpha = 0.1 and learning_rate = invscaling and eta0 = 0.001, rsme_tain =0.6577214561455353 and rmse_test =0.6154907710746899\n",
      "for alpha = 0.1 and learning_rate = invscaling and eta0 = 0.01, rsme_tain =0.654035057005472 and rmse_test =0.6161387176596616\n",
      "for alpha = 0.1 and learning_rate = invscaling and eta0 = 0.1, rsme_tain =0.6647199411495087 and rmse_test =0.6153322760772927\n",
      "for alpha = 0.1 and learning_rate = invscaling and eta0 = 1, rsme_tain =0.9195430504947872 and rmse_test =0.8393086890371718\n",
      "for alpha = 0.1 and learning_rate = adaptive and eta0 = 0.001, rsme_tain =0.6536822930310495 and rmse_test =0.6151846832391447\n",
      "for alpha = 0.1 and learning_rate = adaptive and eta0 = 0.01, rsme_tain =0.653657123892078 and rmse_test =0.614877986225842\n",
      "for alpha = 0.1 and learning_rate = adaptive and eta0 = 0.1, rsme_tain =0.6536644032150536 and rmse_test =0.6146706340298811\n",
      "for alpha = 0.1 and learning_rate = adaptive and eta0 = 1, rsme_tain =0.6536559261602652 and rmse_test =0.61468201046433\n",
      "for alpha = 1 and learning_rate = constant and eta0 = 0.001, rsme_tain =0.653983502302448 and rmse_test =0.615220284569186\n",
      "for alpha = 1 and learning_rate = constant and eta0 = 0.01, rsme_tain =0.6619090338443988 and rmse_test =0.6260602323523037\n",
      "for alpha = 1 and learning_rate = constant and eta0 = 0.1, rsme_tain =23734951166.624718 and rmse_test =25456718153.280315\n",
      "for alpha = 1 and learning_rate = constant and eta0 = 1, rsme_tain =10131821561092.312 and rmse_test =10024778547475.62\n",
      "for alpha = 1 and learning_rate = optimal and eta0 = 0.001, rsme_tain =0.8199422779692617 and rmse_test =0.7576011645563677\n",
      "for alpha = 1 and learning_rate = optimal and eta0 = 0.01, rsme_tain =1.0172834143379776 and rmse_test =0.9098099182375632\n",
      "for alpha = 1 and learning_rate = optimal and eta0 = 0.1, rsme_tain =0.9914910798317964 and rmse_test =0.9014396598235058\n",
      "for alpha = 1 and learning_rate = optimal and eta0 = 1, rsme_tain =0.7534519501656648 and rmse_test =0.6793276919214504\n",
      "for alpha = 1 and learning_rate = invscaling and eta0 = 0.001, rsme_tain =0.6577404201557883 and rmse_test =0.6149497092758899\n",
      "for alpha = 1 and learning_rate = invscaling and eta0 = 0.01, rsme_tain =0.6547889127646553 and rmse_test =0.6190598896981863\n",
      "for alpha = 1 and learning_rate = invscaling and eta0 = 0.1, rsme_tain =0.6961797797964254 and rmse_test =0.6658483984644783\n",
      "for alpha = 1 and learning_rate = invscaling and eta0 = 1, rsme_tain =1.051868856621674 and rmse_test =0.9466633882842985\n",
      "for alpha = 1 and learning_rate = adaptive and eta0 = 0.001, rsme_tain =0.6536666513334204 and rmse_test =0.6148111646862899\n",
      "for alpha = 1 and learning_rate = adaptive and eta0 = 0.01, rsme_tain =0.6536577963987555 and rmse_test =0.6149962099560079\n",
      "for alpha = 1 and learning_rate = adaptive and eta0 = 0.1, rsme_tain =0.653658820584228 and rmse_test =0.6148525611600325\n",
      "for alpha = 1 and learning_rate = adaptive and eta0 = 1, rsme_tain =0.6536652198090149 and rmse_test =0.6146007769755222\n",
      "for alpha = 10 and learning_rate = constant and eta0 = 0.001, rsme_tain =0.6543895148976652 and rmse_test =0.6172019118017067\n",
      "for alpha = 10 and learning_rate = constant and eta0 = 0.01, rsme_tain =0.666838677276963 and rmse_test =0.622092502307364\n",
      "for alpha = 10 and learning_rate = constant and eta0 = 0.1, rsme_tain =156725030076.91653 and rmse_test =140832204848.82074\n",
      "for alpha = 10 and learning_rate = constant and eta0 = 1, rsme_tain =9693919730209.213 and rmse_test =8693598826926.295\n",
      "for alpha = 10 and learning_rate = optimal and eta0 = 0.001, rsme_tain =2.123408433053144 and rmse_test =2.0833405017923465\n",
      "for alpha = 10 and learning_rate = optimal and eta0 = 0.01, rsme_tain =2.231458279495442 and rmse_test =2.0711235842361866\n",
      "for alpha = 10 and learning_rate = optimal and eta0 = 0.1, rsme_tain =1.9792724561148751 and rmse_test =1.8638742734832712\n",
      "for alpha = 10 and learning_rate = optimal and eta0 = 1, rsme_tain =3.142437210622527 and rmse_test =3.3427631910143725\n",
      "for alpha = 10 and learning_rate = invscaling and eta0 = 0.001, rsme_tain =0.657799978866314 and rmse_test =0.6153014522595713\n",
      "for alpha = 10 and learning_rate = invscaling and eta0 = 0.01, rsme_tain =0.6539192326889822 and rmse_test =0.614620938756563\n",
      "for alpha = 10 and learning_rate = invscaling and eta0 = 0.1, rsme_tain =0.6646361523921532 and rmse_test =0.6377570509244257\n",
      "for alpha = 10 and learning_rate = invscaling and eta0 = 1, rsme_tain =14566020266.533388 and rmse_test =12541746523.515308\n",
      "for alpha = 10 and learning_rate = adaptive and eta0 = 0.001, rsme_tain =0.6536904918242599 and rmse_test =0.6150290039985249\n",
      "for alpha = 10 and learning_rate = adaptive and eta0 = 0.01, rsme_tain =0.6536563300108021 and rmse_test =0.6151543921625943\n",
      "for alpha = 10 and learning_rate = adaptive and eta0 = 0.1, rsme_tain =268222.7916164839 and rmse_test =250298.42660349407\n",
      "for alpha = 10 and learning_rate = adaptive and eta0 = 1, rsme_tain =0.6536549784777393 and rmse_test =0.614887590256752\n",
      "for alpha = 0.001 and learning_rate = constant and eta0 = 0.001, rsme_tain =0.654044201939026 and rmse_test =0.6147444552663157\n",
      "for alpha = 0.001 and learning_rate = constant and eta0 = 0.01, rsme_tain =0.671662503877927 and rmse_test =0.6248541326580289\n",
      "for alpha = 0.001 and learning_rate = constant and eta0 = 0.1, rsme_tain =15291.386938257216 and rmse_test =15366.638950742788\n",
      "for alpha = 0.001 and learning_rate = constant and eta0 = 1, rsme_tain =9386561860127.316 and rmse_test =8328544849343.552\n",
      "for alpha = 0.001 and learning_rate = optimal and eta0 = 0.001, rsme_tain =0.6749032942138959 and rmse_test =0.6330391444502138\n",
      "for alpha = 0.001 and learning_rate = optimal and eta0 = 0.01, rsme_tain =0.7070201623688072 and rmse_test =0.6718816921931774\n",
      "for alpha = 0.001 and learning_rate = optimal and eta0 = 0.1, rsme_tain =0.6854484438838635 and rmse_test =0.6589104599014551\n",
      "for alpha = 0.001 and learning_rate = optimal and eta0 = 1, rsme_tain =0.6802286990572638 and rmse_test =0.6395653295270524\n",
      "for alpha = 0.001 and learning_rate = invscaling and eta0 = 0.001, rsme_tain =0.6577078466385101 and rmse_test =0.6153525999812375\n",
      "for alpha = 0.001 and learning_rate = invscaling and eta0 = 0.01, rsme_tain =0.6547187652529163 and rmse_test =0.6125641022363373\n",
      "for alpha = 0.001 and learning_rate = invscaling and eta0 = 0.1, rsme_tain =0.6599097334063838 and rmse_test =0.6137448260141232\n",
      "for alpha = 0.001 and learning_rate = invscaling and eta0 = 1, rsme_tain =0.8481034495923351 and rmse_test =0.8178601994041129\n",
      "for alpha = 0.001 and learning_rate = adaptive and eta0 = 0.001, rsme_tain =0.653685546489413 and rmse_test =0.6152863743215669\n",
      "for alpha = 0.001 and learning_rate = adaptive and eta0 = 0.01, rsme_tain =0.65365847364515 and rmse_test =0.6149331757295616\n",
      "for alpha = 0.001 and learning_rate = adaptive and eta0 = 0.1, rsme_tain =1653.4041884262695 and rmse_test =1542.4241380318497\n",
      "for alpha = 0.001 and learning_rate = adaptive and eta0 = 1, rsme_tain =0.6536568468362963 and rmse_test =0.6149975187245245\n",
      "for alpha = 0.01 and learning_rate = constant and eta0 = 0.001, rsme_tain =0.6540956556279696 and rmse_test =0.6149717956763294\n",
      "for alpha = 0.01 and learning_rate = constant and eta0 = 0.01, rsme_tain =0.6797660207482416 and rmse_test =0.6394176670226884\n",
      "for alpha = 0.01 and learning_rate = constant and eta0 = 0.1, rsme_tain =403919586511.41345 and rmse_test =418630174848.5857\n",
      "for alpha = 0.01 and learning_rate = constant and eta0 = 1, rsme_tain =6959208242058.341 and rmse_test =6075642895264.87\n",
      "for alpha = 0.01 and learning_rate = optimal and eta0 = 0.001, rsme_tain =0.6565872752454138 and rmse_test =0.6136014238951355\n",
      "for alpha = 0.01 and learning_rate = optimal and eta0 = 0.01, rsme_tain =0.6560468608210441 and rmse_test =0.6169626176058732\n",
      "for alpha = 0.01 and learning_rate = optimal and eta0 = 0.1, rsme_tain =0.6549488111042195 and rmse_test =0.6156530380460211\n",
      "for alpha = 0.01 and learning_rate = optimal and eta0 = 1, rsme_tain =0.6556365397996855 and rmse_test =0.6143328882152754\n",
      "for alpha = 0.01 and learning_rate = invscaling and eta0 = 0.001, rsme_tain =0.6577365689526248 and rmse_test =0.6150827067106415\n",
      "for alpha = 0.01 and learning_rate = invscaling and eta0 = 0.01, rsme_tain =0.6538530360170107 and rmse_test =0.6144433269998198\n",
      "for alpha = 0.01 and learning_rate = invscaling and eta0 = 0.1, rsme_tain =0.6672191376987696 and rmse_test =0.6179702999343428\n",
      "for alpha = 0.01 and learning_rate = invscaling and eta0 = 1, rsme_tain =10841842.95451804 and rmse_test =9831931.233233152\n",
      "for alpha = 0.01 and learning_rate = adaptive and eta0 = 0.001, rsme_tain =0.6536870267310602 and rmse_test =0.6147961660334289\n",
      "for alpha = 0.01 and learning_rate = adaptive and eta0 = 0.01, rsme_tain =0.6536564899916487 and rmse_test =0.6150296095740843\n",
      "for alpha = 0.01 and learning_rate = adaptive and eta0 = 0.1, rsme_tain =51398.47736529885 and rmse_test =47923.3791880038\n",
      "for alpha = 0.01 and learning_rate = adaptive and eta0 = 1, rsme_tain =0.6536590963405109 and rmse_test =0.6148955471027074\n",
      "for alpha = 0.1 and learning_rate = constant and eta0 = 0.001, rsme_tain =0.6541071310225809 and rmse_test =0.613581992236755\n",
      "for alpha = 0.1 and learning_rate = constant and eta0 = 0.01, rsme_tain =0.6865688394802204 and rmse_test =0.6333315244468068\n",
      "for alpha = 0.1 and learning_rate = constant and eta0 = 0.1, rsme_tain =621006142770.6061 and rmse_test =670435520231.6117\n",
      "for alpha = 0.1 and learning_rate = constant and eta0 = 1, rsme_tain =4324941160164.2437 and rmse_test =4395609221893.589\n"
     ]
    },
    {
     "name": "stderr",
     "output_type": "stream",
     "text": [
      "/opt/anaconda3/lib/python3.7/site-packages/sklearn/linear_model/_stochastic_gradient.py:1187: ConvergenceWarning: Maximum number of iteration reached before convergence. Consider increasing max_iter to improve the fit.\n",
      "  ConvergenceWarning)\n"
     ]
    },
    {
     "name": "stdout",
     "output_type": "stream",
     "text": [
      "for alpha = 0.1 and learning_rate = optimal and eta0 = 0.001, rsme_tain =1205921.3675902467 and rmse_test =1124306.2404938494\n"
     ]
    },
    {
     "name": "stderr",
     "output_type": "stream",
     "text": [
      "/opt/anaconda3/lib/python3.7/site-packages/sklearn/linear_model/_stochastic_gradient.py:1187: ConvergenceWarning: Maximum number of iteration reached before convergence. Consider increasing max_iter to improve the fit.\n",
      "  ConvergenceWarning)\n"
     ]
    },
    {
     "name": "stdout",
     "output_type": "stream",
     "text": [
      "for alpha = 0.1 and learning_rate = optimal and eta0 = 0.01, rsme_tain =321904.5001267559 and rmse_test =300118.39630809927\n"
     ]
    },
    {
     "name": "stderr",
     "output_type": "stream",
     "text": [
      "/opt/anaconda3/lib/python3.7/site-packages/sklearn/linear_model/_stochastic_gradient.py:1187: ConvergenceWarning: Maximum number of iteration reached before convergence. Consider increasing max_iter to improve the fit.\n",
      "  ConvergenceWarning)\n"
     ]
    },
    {
     "name": "stdout",
     "output_type": "stream",
     "text": [
      "for alpha = 0.1 and learning_rate = optimal and eta0 = 0.1, rsme_tain =270275.3343254953 and rmse_test =251983.53533824297\n"
     ]
    },
    {
     "name": "stderr",
     "output_type": "stream",
     "text": [
      "/opt/anaconda3/lib/python3.7/site-packages/sklearn/linear_model/_stochastic_gradient.py:1187: ConvergenceWarning: Maximum number of iteration reached before convergence. Consider increasing max_iter to improve the fit.\n",
      "  ConvergenceWarning)\n"
     ]
    },
    {
     "name": "stdout",
     "output_type": "stream",
     "text": [
      "for alpha = 0.1 and learning_rate = optimal and eta0 = 1, rsme_tain =3329.0542498398854 and rmse_test =3103.7356286949835\n",
      "for alpha = 0.1 and learning_rate = invscaling and eta0 = 0.001, rsme_tain =0.6578739827287816 and rmse_test =0.61535379605018\n",
      "for alpha = 0.1 and learning_rate = invscaling and eta0 = 0.01, rsme_tain =0.6565859327278714 and rmse_test =0.6231606145870568\n",
      "for alpha = 0.1 and learning_rate = invscaling and eta0 = 0.1, rsme_tain =0.6652799022680191 and rmse_test =0.6222576470558069\n",
      "for alpha = 0.1 and learning_rate = invscaling and eta0 = 1, rsme_tain =23891993068.881317 and rmse_test =22402471056.977844\n",
      "for alpha = 0.1 and learning_rate = adaptive and eta0 = 0.001, rsme_tain =0.6537080513026662 and rmse_test =0.6146740723539034\n",
      "for alpha = 0.1 and learning_rate = adaptive and eta0 = 0.01, rsme_tain =0.6536585145435231 and rmse_test =0.6146477003625157\n",
      "for alpha = 0.1 and learning_rate = adaptive and eta0 = 0.1, rsme_tain =167246.82023495593 and rmse_test =155919.377302719\n",
      "for alpha = 0.1 and learning_rate = adaptive and eta0 = 1, rsme_tain =0.6536543226486438 and rmse_test =0.6150182418816054\n",
      "for alpha = 0.1 and learning_rate = constant and eta0 = 0.001, rsme_tain =0.6556978958766357 and rmse_test =0.6213477694478587\n",
      "for alpha = 0.1 and learning_rate = constant and eta0 = 0.01, rsme_tain =0.6732720285042469 and rmse_test =0.6337985904516884\n",
      "for alpha = 0.1 and learning_rate = constant and eta0 = 0.1, rsme_tain =303541533928.9899 and rmse_test =278668946774.6412\n",
      "for alpha = 0.1 and learning_rate = constant and eta0 = 1, rsme_tain =6761417693238.878 and rmse_test =6928868498057.019\n"
     ]
    },
    {
     "name": "stderr",
     "output_type": "stream",
     "text": [
      "/opt/anaconda3/lib/python3.7/site-packages/sklearn/linear_model/_stochastic_gradient.py:1187: ConvergenceWarning: Maximum number of iteration reached before convergence. Consider increasing max_iter to improve the fit.\n",
      "  ConvergenceWarning)\n"
     ]
    },
    {
     "name": "stdout",
     "output_type": "stream",
     "text": [
      "for alpha = 0.1 and learning_rate = optimal and eta0 = 0.001, rsme_tain =1169382.5011515017 and rmse_test =1090240.5647328773\n"
     ]
    },
    {
     "name": "stderr",
     "output_type": "stream",
     "text": [
      "/opt/anaconda3/lib/python3.7/site-packages/sklearn/linear_model/_stochastic_gradient.py:1187: ConvergenceWarning: Maximum number of iteration reached before convergence. Consider increasing max_iter to improve the fit.\n",
      "  ConvergenceWarning)\n"
     ]
    },
    {
     "name": "stdout",
     "output_type": "stream",
     "text": [
      "for alpha = 0.1 and learning_rate = optimal and eta0 = 0.01, rsme_tain =8418.941426563295 and rmse_test =7849.14074284374\n"
     ]
    },
    {
     "name": "stderr",
     "output_type": "stream",
     "text": [
      "/opt/anaconda3/lib/python3.7/site-packages/sklearn/linear_model/_stochastic_gradient.py:1187: ConvergenceWarning: Maximum number of iteration reached before convergence. Consider increasing max_iter to improve the fit.\n",
      "  ConvergenceWarning)\n"
     ]
    },
    {
     "name": "stdout",
     "output_type": "stream",
     "text": [
      "for alpha = 0.1 and learning_rate = optimal and eta0 = 0.1, rsme_tain =536.7466219530919 and rmse_test =500.43393938556954\n"
     ]
    },
    {
     "name": "stderr",
     "output_type": "stream",
     "text": [
      "/opt/anaconda3/lib/python3.7/site-packages/sklearn/linear_model/_stochastic_gradient.py:1187: ConvergenceWarning: Maximum number of iteration reached before convergence. Consider increasing max_iter to improve the fit.\n",
      "  ConvergenceWarning)\n"
     ]
    },
    {
     "name": "stdout",
     "output_type": "stream",
     "text": [
      "for alpha = 0.1 and learning_rate = optimal and eta0 = 1, rsme_tain =210788.84041541393 and rmse_test =196522.69689159835\n",
      "for alpha = 0.1 and learning_rate = invscaling and eta0 = 0.001, rsme_tain =0.6578203577872132 and rmse_test =0.6154281368821315\n",
      "for alpha = 0.1 and learning_rate = invscaling and eta0 = 0.01, rsme_tain =0.6538592976554206 and rmse_test =0.6165727990978966\n",
      "for alpha = 0.1 and learning_rate = invscaling and eta0 = 0.1, rsme_tain =0.6798361190338146 and rmse_test =0.6216764149483689\n",
      "for alpha = 0.1 and learning_rate = invscaling and eta0 = 1, rsme_tain =1.3714602617832918 and rmse_test =1.1748457315233842\n",
      "for alpha = 0.1 and learning_rate = adaptive and eta0 = 0.001, rsme_tain =0.6536867206061406 and rmse_test =0.6147920726684416\n",
      "for alpha = 0.1 and learning_rate = adaptive and eta0 = 0.01, rsme_tain =0.6536604851311921 and rmse_test =0.6152248679728695\n",
      "for alpha = 0.1 and learning_rate = adaptive and eta0 = 0.1, rsme_tain =7580.106205636773 and rmse_test =7079.562102610766\n",
      "for alpha = 0.1 and learning_rate = adaptive and eta0 = 1, rsme_tain =0.6536621357497746 and rmse_test =0.6152094365145814\n",
      "for alpha = 1 and learning_rate = constant and eta0 = 0.001, rsme_tain =0.6539456564217875 and rmse_test =0.615723786801886\n",
      "for alpha = 1 and learning_rate = constant and eta0 = 0.01, rsme_tain =0.6640829531697503 and rmse_test =0.628926277560416\n",
      "for alpha = 1 and learning_rate = constant and eta0 = 0.1, rsme_tain =5785529938.355653 and rmse_test =5909111281.070732\n",
      "for alpha = 1 and learning_rate = constant and eta0 = 1, rsme_tain =4023296351639.91 and rmse_test =3886067075538.829\n",
      "for alpha = 1 and learning_rate = optimal and eta0 = 0.001, rsme_tain =2.059737559778128 and rmse_test =1.9428367396028583\n",
      "for alpha = 1 and learning_rate = optimal and eta0 = 0.01, rsme_tain =1.610120184413385 and rmse_test =1.5502479680391006\n",
      "for alpha = 1 and learning_rate = optimal and eta0 = 0.1, rsme_tain =2.0691856161578466 and rmse_test =2.0244505818887824\n",
      "for alpha = 1 and learning_rate = optimal and eta0 = 1, rsme_tain =1.061796662636647 and rmse_test =0.9952467983162514\n",
      "for alpha = 1 and learning_rate = invscaling and eta0 = 0.001, rsme_tain =0.657702032814898 and rmse_test =0.6152487646640529\n",
      "for alpha = 1 and learning_rate = invscaling and eta0 = 0.01, rsme_tain =0.6542681338778502 and rmse_test =0.6163127737904422\n",
      "for alpha = 1 and learning_rate = invscaling and eta0 = 0.1, rsme_tain =0.6692742060667193 and rmse_test =0.6339922419879728\n",
      "for alpha = 1 and learning_rate = invscaling and eta0 = 1, rsme_tain =8.73190374677549 and rmse_test =8.43607265046719\n",
      "for alpha = 1 and learning_rate = adaptive and eta0 = 0.001, rsme_tain =0.6536961567268039 and rmse_test =0.6151367947248945\n",
      "for alpha = 1 and learning_rate = adaptive and eta0 = 0.01, rsme_tain =0.6536588220097561 and rmse_test =0.6147533037085259\n",
      "for alpha = 1 and learning_rate = adaptive and eta0 = 0.1, rsme_tain =567184.46538435 and rmse_test =529192.1362947666\n",
      "for alpha = 1 and learning_rate = adaptive and eta0 = 1, rsme_tain =0.6536546517703891 and rmse_test =0.6149016992412913\n",
      "for alpha = 10 and learning_rate = constant and eta0 = 0.001, rsme_tain =0.6540379371633297 and rmse_test =0.6150809663811262\n",
      "for alpha = 10 and learning_rate = constant and eta0 = 0.01, rsme_tain =0.6787157647160693 and rmse_test =0.6287983111820391\n",
      "for alpha = 10 and learning_rate = constant and eta0 = 0.1, rsme_tain =25450707521.36875 and rmse_test =25222207006.943676\n",
      "for alpha = 10 and learning_rate = constant and eta0 = 1, rsme_tain =8652790232504.783 and rmse_test =8523758553396.5205\n",
      "for alpha = 10 and learning_rate = optimal and eta0 = 0.001, rsme_tain =1.2891777589869582 and rmse_test =1.1475749906491133\n",
      "for alpha = 10 and learning_rate = optimal and eta0 = 0.01, rsme_tain =4.047726211157675 and rmse_test =4.169606983730252\n",
      "for alpha = 10 and learning_rate = optimal and eta0 = 0.1, rsme_tain =2.280410005762048 and rmse_test =2.1804638745082343\n",
      "for alpha = 10 and learning_rate = optimal and eta0 = 1, rsme_tain =2.0015197475539153 and rmse_test =1.8130934449929763\n",
      "for alpha = 10 and learning_rate = invscaling and eta0 = 0.001, rsme_tain =0.6577843463514045 and rmse_test =0.6150643144342682\n",
      "for alpha = 10 and learning_rate = invscaling and eta0 = 0.01, rsme_tain =0.6542461270710002 and rmse_test =0.615908799602036\n",
      "for alpha = 10 and learning_rate = invscaling and eta0 = 0.1, rsme_tain =0.6579110464135162 and rmse_test =0.6212866393909269\n",
      "for alpha = 10 and learning_rate = invscaling and eta0 = 1, rsme_tain =3931715.7491535814 and rmse_test =3324043.9026063145\n",
      "for alpha = 10 and learning_rate = adaptive and eta0 = 0.001, rsme_tain =0.6537033661024605 and rmse_test =0.6147935917438624\n",
      "for alpha = 10 and learning_rate = adaptive and eta0 = 0.01, rsme_tain =0.6536538297993996 and rmse_test =0.6149387829379397\n",
      "for alpha = 10 and learning_rate = adaptive and eta0 = 0.1, rsme_tain =633069.63014911 and rmse_test =589867.0480143763\n",
      "for alpha = 10 and learning_rate = adaptive and eta0 = 1, rsme_tain =0.6536548950959035 and rmse_test =0.6148747394342785\n"
     ]
    },
    {
     "name": "stderr",
     "output_type": "stream",
     "text": [
      "/opt/anaconda3/lib/python3.7/site-packages/sklearn/linear_model/_stochastic_gradient.py:1187: ConvergenceWarning: Maximum number of iteration reached before convergence. Consider increasing max_iter to improve the fit.\n",
      "  ConvergenceWarning)\n",
      "/opt/anaconda3/lib/python3.7/site-packages/sklearn/linear_model/_stochastic_gradient.py:1187: ConvergenceWarning: Maximum number of iteration reached before convergence. Consider increasing max_iter to improve the fit.\n",
      "  ConvergenceWarning)\n",
      "/opt/anaconda3/lib/python3.7/site-packages/sklearn/linear_model/_stochastic_gradient.py:1187: ConvergenceWarning: Maximum number of iteration reached before convergence. Consider increasing max_iter to improve the fit.\n",
      "  ConvergenceWarning)\n",
      "/opt/anaconda3/lib/python3.7/site-packages/sklearn/linear_model/_stochastic_gradient.py:1187: ConvergenceWarning: Maximum number of iteration reached before convergence. Consider increasing max_iter to improve the fit.\n",
      "  ConvergenceWarning)\n",
      "/opt/anaconda3/lib/python3.7/site-packages/sklearn/linear_model/_stochastic_gradient.py:1187: ConvergenceWarning: Maximum number of iteration reached before convergence. Consider increasing max_iter to improve the fit.\n",
      "  ConvergenceWarning)\n",
      "/opt/anaconda3/lib/python3.7/site-packages/sklearn/linear_model/_stochastic_gradient.py:1187: ConvergenceWarning: Maximum number of iteration reached before convergence. Consider increasing max_iter to improve the fit.\n",
      "  ConvergenceWarning)\n",
      "/opt/anaconda3/lib/python3.7/site-packages/sklearn/linear_model/_stochastic_gradient.py:1187: ConvergenceWarning: Maximum number of iteration reached before convergence. Consider increasing max_iter to improve the fit.\n",
      "  ConvergenceWarning)\n",
      "/opt/anaconda3/lib/python3.7/site-packages/sklearn/linear_model/_stochastic_gradient.py:1187: ConvergenceWarning: Maximum number of iteration reached before convergence. Consider increasing max_iter to improve the fit.\n",
      "  ConvergenceWarning)\n",
      "/opt/anaconda3/lib/python3.7/site-packages/sklearn/linear_model/_stochastic_gradient.py:1187: ConvergenceWarning: Maximum number of iteration reached before convergence. Consider increasing max_iter to improve the fit.\n",
      "  ConvergenceWarning)\n",
      "/opt/anaconda3/lib/python3.7/site-packages/sklearn/linear_model/_stochastic_gradient.py:1187: ConvergenceWarning: Maximum number of iteration reached before convergence. Consider increasing max_iter to improve the fit.\n",
      "  ConvergenceWarning)\n",
      "/opt/anaconda3/lib/python3.7/site-packages/sklearn/linear_model/_stochastic_gradient.py:1187: ConvergenceWarning: Maximum number of iteration reached before convergence. Consider increasing max_iter to improve the fit.\n",
      "  ConvergenceWarning)\n",
      "/opt/anaconda3/lib/python3.7/site-packages/sklearn/linear_model/_stochastic_gradient.py:1187: ConvergenceWarning: Maximum number of iteration reached before convergence. Consider increasing max_iter to improve the fit.\n",
      "  ConvergenceWarning)\n",
      "/opt/anaconda3/lib/python3.7/site-packages/sklearn/linear_model/_stochastic_gradient.py:1187: ConvergenceWarning: Maximum number of iteration reached before convergence. Consider increasing max_iter to improve the fit.\n",
      "  ConvergenceWarning)\n",
      "/opt/anaconda3/lib/python3.7/site-packages/sklearn/linear_model/_stochastic_gradient.py:1187: ConvergenceWarning: Maximum number of iteration reached before convergence. Consider increasing max_iter to improve the fit.\n",
      "  ConvergenceWarning)\n",
      "/opt/anaconda3/lib/python3.7/site-packages/sklearn/linear_model/_stochastic_gradient.py:1187: ConvergenceWarning: Maximum number of iteration reached before convergence. Consider increasing max_iter to improve the fit.\n",
      "  ConvergenceWarning)\n",
      "/opt/anaconda3/lib/python3.7/site-packages/sklearn/linear_model/_stochastic_gradient.py:1187: ConvergenceWarning: Maximum number of iteration reached before convergence. Consider increasing max_iter to improve the fit.\n",
      "  ConvergenceWarning)\n",
      "/opt/anaconda3/lib/python3.7/site-packages/sklearn/linear_model/_stochastic_gradient.py:1187: ConvergenceWarning: Maximum number of iteration reached before convergence. Consider increasing max_iter to improve the fit.\n",
      "  ConvergenceWarning)\n",
      "/opt/anaconda3/lib/python3.7/site-packages/sklearn/linear_model/_stochastic_gradient.py:1187: ConvergenceWarning: Maximum number of iteration reached before convergence. Consider increasing max_iter to improve the fit.\n",
      "  ConvergenceWarning)\n"
     ]
    }
   ],
   "source": [
    "x_total = D2[['fixed acidity','volatile acidity','citric acid','residual sugar','chlorides','free sulfur dioxide','total sulfur dioxide','density','pH','sulphates','alcohol']]\n",
    "y_total = D2['quality']\n",
    "data = D2.values\n",
    "X_train, X_test, y_train, y_test = train_test_split(D2[['fixed acidity','volatile acidity','citric acid','residual sugar','chlorides','free sulfur dioxide','total sulfur dioxide','density','pH','sulphates','alcohol']], D2['quality'], test_size=0.2)\n",
    "model = SGDRegressor(max_iter=100000)\n",
    "\n",
    "#clf = GridSearchCV(model, param_grid)\n",
    "#clf.fit(X_train, y_train)\n",
    "#print(\"Best score: \" + str(clf.best_score_))\n",
    "\n",
    "rmse_train_ordinary = sgd_ref_type('Ordinary Least Squares')[0]\n",
    "rmse_test_ordinary = sgd_ref_type('Ordinary Least Squares')[1]\n",
    "rmse_train_reg = sgd_ref_type('Ridge Regression')[0]\n",
    "rmse_test_reg = sgd_ref_type('Ridge Regression')[1]\n",
    "rmse_train_lasso = sgd_ref_type('LASSO')[0]\n",
    "rmse_test_lasso = sgd_ref_type('LASSO')[1]\n",
    "\n",
    "#print (rmse_train_ordinary,rmse_test_ordinary)\n",
    "#print (rmse_train_reg,rmse_test_reg)\n",
    "#print (rmse_train_lasso,rmse_test_lasso)\n",
    "\n",
    "\n",
    "\n",
    "\n",
    "\n",
    "#plt.scatter(X_train, y_train, color='black')\n",
    "#plt.plot(X, clf.predict(X), color='blue', linewidth=3)\n",
    "#plt.show()\n",
    "#print (sgd_loss_train,sgd_loss_test,ridge_loss_train,ridge_loss_test,lasso_loss_train,lasso_loss_test,ridge_loss_train, ridge_loss_test)\n",
    "\n",
    "\n",
    "\n",
    "\n",
    "\n",
    "\n",
    "\n"
   ]
  },
  {
   "cell_type": "markdown",
   "metadata": {},
   "source": [
    "<b>Tuning hyperparamters<b>"
   ]
  },
  {
   "cell_type": "code",
   "execution_count": 512,
   "metadata": {},
   "outputs": [
    {
     "name": "stdout",
     "output_type": "stream",
     "text": [
      "best prarams for model one: {'alpha': 0.1, 'eta0': 0.001, 'learning_rate': 'constant'}\n"
     ]
    },
    {
     "name": "stderr",
     "output_type": "stream",
     "text": [
      "/opt/anaconda3/lib/python3.7/site-packages/sklearn/linear_model/_stochastic_gradient.py:1187: ConvergenceWarning: Maximum number of iteration reached before convergence. Consider increasing max_iter to improve the fit.\n",
      "  ConvergenceWarning)\n"
     ]
    },
    {
     "name": "stdout",
     "output_type": "stream",
     "text": [
      "best prarams for model two: {'alpha': 0.1, 'eta0': 0.001, 'learning_rate': 'constant'}\n",
      "[0.37704463 0.36226895 0.35892943 0.33484551 0.36973922]\n",
      "[0.13083369 0.31615508 0.3444783  0.36538004 0.28561147]\n",
      "[0.37689587 0.36057704 0.35857363 0.33470929 0.36780036]\n",
      "[0.14122509 0.30425613 0.34386918 0.36768395 0.30153067]\n"
     ]
    },
    {
     "name": "stderr",
     "output_type": "stream",
     "text": [
      "/opt/anaconda3/lib/python3.7/site-packages/ipykernel_launcher.py:54: UserWarning: Legend does not support array([0.37704463, 0.36226895, 0.35892943, 0.33484551, 0.36973922]) instances.\n",
      "A proxy artist may be used instead.\n",
      "See: http://matplotlib.org/users/legend_guide.html#creating-artists-specifically-for-adding-to-the-legend-aka-proxy-artists\n",
      "/opt/anaconda3/lib/python3.7/site-packages/ipykernel_launcher.py:54: UserWarning: Legend does not support array([0.13083369, 0.31615508, 0.3444783 , 0.36538004, 0.28561147]) instances.\n",
      "A proxy artist may be used instead.\n",
      "See: http://matplotlib.org/users/legend_guide.html#creating-artists-specifically-for-adding-to-the-legend-aka-proxy-artists\n"
     ]
    },
    {
     "data": {
      "text/plain": [
       "\"\\n  scores = cross_val_score(grid_search.best_estimator_, x_train, y_train, cv=3, scoring='accuracy')\\n    print(scores.mean(), scores)\\n    print('on test set')\\n    scores = cross_val_score(grid_search.best_estimator_, x_test, y_test, cv=3, scoring='accuracy')\\n    print(scores.mean(), scores)\\n    \\n\""
      ]
     },
     "execution_count": 512,
     "metadata": {},
     "output_type": "execute_result"
    },
    {
     "data": {
      "image/png": "[encoded data removed]",
      "text/plain": [
       "<Figure size 432x288 with 1 Axes>"
      ]
     },
     "metadata": {
      "needs_background": "light"
     },
     "output_type": "display_data"
    },
    {
     "data": {
      "image/png": "[encoded data removed]",
      "text/plain": [
       "<Figure size 432x288 with 1 Axes>"
      ]
     },
     "metadata": {
      "needs_background": "light"
     },
     "output_type": "display_data"
    }
   ],
   "source": [
    "from sklearn.model_selection import cross_validate\n",
    "param_grid = {\n",
    "\n",
    "   'learning_rate' :[ 'constant', 'optimal', 'invscaling', 'adaptive'],\n",
    "    'alpha':[0.001, 0.01, 0.1,1],\n",
    "    'eta0' :[0.001,0.01,0.1,1 ],\n",
    "}\n",
    "model_1 = SGDRegressor(max_iter=100000,loss = 'squared_loss' )\n",
    "model_2 = SGDRegressor(max_iter=100000, penalty = 'l2' )\n",
    "#model_3 = SGDRegressor(max_iter=500000, penalty ='l1')\n",
    "model_1_tuned = GridSearchCV(model_1, param_grid)\n",
    "model_2_tuned = GridSearchCV(model_2, param_grid)\n",
    "#model_3_tuned = GridSearchCV(model_3, param_grid)\n",
    "\n",
    "model_1_tuned.fit(X_train, y_train)\n",
    "print('best prarams for model one:', model_1_tuned.best_params_)\n",
    "model_2_tuned.fit(X_train, y_train)\n",
    "print('best prarams for model two:', model_2_tuned.best_params_)\n",
    "#model_3_tuned.fit(X_train, y_train)\n",
    "#print('best prarams for model three:', model_3_tuned.best_params_)\n",
    "\n",
    "cv_results_ord = cross_validate(model_1, x_total, y_total, cv=5,return_train_score=True)\n",
    "cv_results_reg = cross_validate(model_2, x_total, y_total, cv=5,return_train_score=True)\n",
    "#cv_results_lsso = cross_validate(model_3, x_total, y_total, cv=5,return_train_score=True)\n",
    "print(cv_results_ord['train_score'])\n",
    "print (cv_results_ord['test_score'])\n",
    "print (cv_results_reg['train_score'])\n",
    "print (cv_results_reg['test_score'])\n",
    "#------------------------------------------------\n",
    "x_graph = [1,2,3,4,5]\n",
    "y_ord_train = cv_results_ord['train_score']\n",
    "y_ord_test = cv_results_ord['test_score']\n",
    "\n",
    "#---------------------------------------------------------\n",
    "plot1 = plt.figure(1) \n",
    "\n",
    "plt.title(label=\"ordinary - crossvalidation(5) \", \n",
    "          fontsize=40, \n",
    "          color=\"green\") \n",
    "ord_train = plt.scatter(x_graph,y_ord_train )\n",
    "ord_test = plt.scatter(x_graph,y_ord_test )\n",
    "\n",
    "plt.legend([ord_train, ord_test], ['train', 'test'])\n",
    "\n",
    "plot2 = plt.figure(2) \n",
    "\n",
    "plt.title(label=\"Ridge - crossvalidation(5)\", \n",
    "          fontsize=40, \n",
    "          color=\"green\") \n",
    "Ridge_train = plt.scatter(x_graph,y_ord_train )\n",
    "Ridge_test = plt.scatter(x_graph,y_ord_test )\n",
    "y_ridge_train = cv_results_ord['train_score']\n",
    "y_ridge_test = cv_results_ord['test_score']\n",
    "plt.legend([y_ridge_train, y_ridge_test], ['train', 'test'])\n",
    "\n",
    "\n",
    "#print(\"Best score: \" + str(model_1_tuned.best_score_))\n",
    "#print(\"Best score: \" + str(model_2_tuned.best_score_))\n",
    "#print(\"Best score: \" + str(model_3_tuned.best_score_))\n",
    "\n",
    "'''\n",
    "  scores = cross_val_score(grid_search.best_estimator_, x_train, y_train, cv=3, scoring='accuracy')\n",
    "    print(scores.mean(), scores)\n",
    "    print('on test set')\n",
    "    scores = cross_val_score(grid_search.best_estimator_, x_test, y_test, cv=3, scoring='accuracy')\n",
    "    print(scores.mean(), scores)\n",
    "    \n",
    "'''    "
   ]
  },
  {
   "cell_type": "markdown",
   "metadata": {},
   "source": [
    "<b>optimal hyperparamters <b> "
   ]
  },
  {
   "cell_type": "code",
   "execution_count": 511,
   "metadata": {},
   "outputs": [
    {
     "name": "stdout",
     "output_type": "stream",
     "text": [
      "the score for model 1 tuned is 0.3415565794088634\n",
      "the score for model 2 tuned is 0.34735560391033216\n"
     ]
    }
   ],
   "source": [
    "print(\"the score for model 1 tuned is {}\".format(model_1_tuned.score(X_test,y_test)))\n",
    "print(\"the score for model 2 tuned is {}\".format(model_2_tuned.score(X_test,y_test) ))\n",
    "\n"
   ]
  },
  {
   "cell_type": "markdown",
   "metadata": {},
   "source": [
    "Adding bias in our trianing_data_Set"
   ]
  },
  {
   "cell_type": "markdown",
   "metadata": {},
   "source": [
    "<b> Eercise 2 Higher Order Polynomial Regression <b>"
   ]
  },
  {
   "cell_type": "code",
   "execution_count": 506,
   "metadata": {},
   "outputs": [
    {
     "name": "stdout",
     "output_type": "stream",
     "text": [
      "this is pred{} [14.4865757  14.52057455 14.60544786 14.75916164 14.75365035 14.36515422\n",
      " 14.58859716 14.59633877 14.69232581 14.61543937 14.70107505 14.62889171\n",
      " 14.71418184 14.44875796 14.56956737 14.38618297 14.59460115 14.49048156\n",
      " 14.58542892 14.59823765]\n",
      "this is the degree 1, train score = 0.06212901234487067, test_score = -0.48868007864677687\n",
      "this is pred{} [14.48826681 14.5053451  14.5834407  14.85378523 14.84122129 14.49360537\n",
      " 14.56390676 14.57263325 14.71582806 14.59596588 14.73210122 14.61393803\n",
      " 14.7574861  14.47881648 14.54424672 14.48526038 14.5706379  14.48981566\n",
      " 14.56045695 14.57483804]\n",
      "this is the degree 2, train score = 0.07060064474157546, test_score = -0.48169819160339666\n",
      "this is pred{} [14.44038699 14.46176944 14.6066371  14.8511251  14.83583555 11.89575265\n",
      " 14.59368847 14.60052917 14.7048975  14.61185155 14.72425256 14.61851201\n",
      " 14.75335703 14.55801079 14.56822453 13.75769112 14.59914348 14.4368696\n",
      " 14.59035001 14.60195384]\n",
      "this is the degree 7, train score = 0.09770601713560123, test_score = -4.6092370209273605\n",
      "this is pred{} [14.37365723 14.43615723 14.56115723 14.65490723 14.65490723 25.59240723\n",
      " 14.52990723 14.49865723 14.59240723 14.59240723 14.65490723 14.56115723\n",
      " 14.81115723 14.62365723 14.52990723 14.88928223 14.56115723 14.37365723\n",
      " 14.56115723 14.56115723]\n",
      "this is the degree 10, train score = 0.14580094501962326, test_score = -59.17056166862287\n",
      "this is pred{} [14.36549377 14.53227234 14.60209656 14.58647156 14.62260437 38.03849792\n",
      " 14.52885437 14.5579071  14.61576843 14.65092468 14.71928406 14.68998718\n",
      " 14.90971375 14.70066833 14.50883484 15.94584656 14.55229187 14.37355042\n",
      " 14.51957703 14.56645203]\n",
      "this is the degree 16, train score = 0.1664397468043407, test_score = -269.5125954311586\n",
      "this is pred{} [14.34479713 14.48846197 14.46723175 16.85386181 14.94419384 14.37668753\n",
      " 14.45491695 14.43873167 15.12162304 14.56766224 15.56757641 14.75152493\n",
      " 15.56345654 14.71064758 14.54597759 14.58531189 14.43970346 14.34500122\n",
      " 14.46832895 14.43981266]\n",
      "this is the degree 100, train score = 0.24397913780417071, test_score = -4.533755918892667\n",
      "this is the real y_test = [14.36448889 15.30649457 14.31843684 14.38189706 14.86125865 14.64602095\n",
      " 14.55461625 14.70914881 14.33903806 14.51274762 14.40357239 14.57815226\n",
      " 14.76564177 15.30455132 15.10369912 14.73833864 14.37912123 15.1849205\n",
      " 14.99259591 14.513371  ]\n",
      "this is the prediction = [14.4865757  14.52057455 14.60544786 14.75916164 14.75365035 14.36515422\n",
      " 14.58859716 14.59633877 14.69232581 14.61543937 14.70107505 14.62889171\n",
      " 14.71418184 14.44875796 14.56956737 14.38618297 14.59460115 14.49048156\n",
      " 14.58542892 14.59823765]\n"
     ]
    },
    {
     "data": {
      "text/plain": [
       "[<matplotlib.lines.Line2D at 0x1a1a853e10>]"
      ]
     },
     "execution_count": 506,
     "metadata": {},
     "output_type": "execute_result"
    },
    {
     "data": {
      "image/png": "[encoded data removed]",
      "text/plain": [
       "<Figure size 432x288 with 1 Axes>"
      ]
     },
     "metadata": {
      "needs_background": "light"
     },
     "output_type": "display_data"
    },
    {
     "data": {
      "image/png": "[encoded data removed]",
      "text/plain": [
       "<Figure size 432x288 with 1 Axes>"
      ]
     },
     "metadata": {
      "needs_background": "light"
     },
     "output_type": "display_data"
    },
    {
     "data": {
      "image/png": "[encoded data removed]",
      "text/plain": [
       "<Figure size 432x288 with 1 Axes>"
      ]
     },
     "metadata": {
      "needs_background": "light"
     },
     "output_type": "display_data"
    },
    {
     "data": {
      "image/png": "[encoded data removed]",
      "text/plain": [
       "<Figure size 432x288 with 1 Axes>"
      ]
     },
     "metadata": {
      "needs_background": "light"
     },
     "output_type": "display_data"
    },
    {
     "data": {
      "image/png": "[encoded data removed]",
      "text/plain": [
       "<Figure size 432x288 with 1 Axes>"
      ]
     },
     "metadata": {
      "needs_background": "light"
     },
     "output_type": "display_data"
    }
   ],
   "source": [
    "X_train_p, X_test_p, y_train_p, y_test_p = train_test_split(D1,y,test_size = 0.2)\n",
    "list_degrees = [1,2,7,10,16,100]\n",
    "pred_values ={}\n",
    "\n",
    "#x_poly = \n",
    "model = LinearRegression()\n",
    "for i in list_degrees:\n",
    "    x_poly_f = PolynomialFeatures(degree=i)\n",
    "    x_poly = x_poly_f.fit_transform(X_train_p.reshape(-1,1))\n",
    "    x_test = x_poly_f.fit_transform(X_test_p.reshape(-1,1))\n",
    "    model.fit(x_poly,y_train_p)\n",
    "    pred = model.predict(x_test)\n",
    "    print(\"this is pred{}\",pred)\n",
    "    pred_values[i] = pred.transpose()\n",
    "    train_score = model.score( x_poly,y_train_p)\n",
    "    test_score = model.score(x_test,y_test_p)\n",
    "    print (\"this is the degree {}, train score = {}, test_score = {}\".format(i,train_score,test_score))\n",
    "    \n",
    "    \n",
    "\n",
    "#print (pred_values[1][0])\n",
    "print(\"this is the real y_test = {}\".format( y_test_p))\n",
    "print(\"this is the prediction = {}\".format(pred_values[1]))\n",
    "plot1 = plt.figure(1) \n",
    "#print (x_test.size, len(pred_values[1][0]))\n",
    "plt.title(label=\"1-degree\", \n",
    "          fontsize=40, \n",
    "          color=\"green\") \n",
    "plt.scatter(X_test_p,y_test_p )\n",
    "lists = sorted(zip(*[X_test_p,pred_values[1] ]))\n",
    "new_x, new_y = list(zip(*lists))\n",
    "\n",
    "plt.plot(new_x,new_y , c='red')\n",
    "\n",
    "\n",
    "plot2 = plt.figure(2) \n",
    "plt.title(label=\"2-degree\", \n",
    "          fontsize=40, \n",
    "          color=\"green\") \n",
    "plt.scatter(X_test_p,y_test_p )\n",
    "lists = sorted(zip(*[X_test_p,pred_values[2] ]))\n",
    "new_x, new_y = list(zip(*lists))\n",
    "\n",
    "plt.plot(new_x,new_y , c='red')\n",
    "\n",
    "plot3 = plt.figure(3) \n",
    "plt.title(label=\"7-degree\", \n",
    "          fontsize=40, \n",
    "          color=\"green\") \n",
    "plt.scatter(X_test_p, y_test_p)\n",
    "lists = sorted(zip(*[X_test_p,pred_values[7] ]))\n",
    "new_x, new_y = list(zip(*lists))\n",
    "\n",
    "plt.plot(new_x,new_y , c='red')\n",
    "\n",
    "plot4 = plt.figure(4) \n",
    "plt.title(label=\"10-degree\", \n",
    "          fontsize=40, \n",
    "          color=\"green\") \n",
    "plt.scatter(X_test_p, y_test_p)\n",
    "lists = sorted(zip(*[X_test_p,pred_values[10] ]))\n",
    "new_x, new_y = list(zip(*lists))\n",
    "plt.plot(new_x,new_y , c='red')\n",
    "\n",
    "plot5 = plt.figure(5) \n",
    "plt.title(label=\"16-degree\", \n",
    "          fontsize=40, \n",
    "          color=\"green\") \n",
    "plt.scatter(X_test_p, y_test_p)\n",
    "lists = sorted(zip(*[X_test_p,pred_values[16] ]))\n",
    "new_x, new_y = list(zip(*lists))\n",
    "plt.plot(new_x,new_y , c='red')\n",
    "\n",
    "\n",
    "\n",
    "\n",
    "plot6 = plt.figure(5) \n",
    "plt.title(label=\"100-degree\", \n",
    "          fontsize=40, \n",
    "          color=\"green\") \n",
    "plt.scatter(X_test_p,y_test_p )\n",
    "lists = sorted(zip(*[X_test_p,pred_values[100] ]))\n",
    "new_x, new_y = list(zip(*lists))\n",
    "plt.plot(new_x,new_y , c='red')\n",
    "\n"
   ]
  },
  {
   "cell_type": "markdown",
   "metadata": {},
   "source": [
    "<b>Effect of Regularization<b>"
   ]
  },
  {
   "cell_type": "code",
   "execution_count": 507,
   "metadata": {},
   "outputs": [
    {
     "name": "stdout",
     "output_type": "stream",
     "text": [
      "this is the train score = 0.14253718698294626, test score = -59.44929011211642\n",
      "this is the train score = 0.07068284607264619, test score = -0.48142472481833676\n",
      "this is the train score = 0.07011865039255061, test score = -0.4875702515267637\n",
      "this is the train score = 0.06935421071697112, test score = -0.4872761714295397\n"
     ]
    },
    {
     "data": {
      "text/plain": [
       "[<matplotlib.lines.Line2D at 0x1a1c4d8f50>]"
      ]
     },
     "execution_count": 507,
     "metadata": {},
     "output_type": "execute_result"
    },
    {
     "data": {
      "image/png": "[encoded data removed]",
      "text/plain": [
       "<Figure size 432x288 with 1 Axes>"
      ]
     },
     "metadata": {
      "needs_background": "light"
     },
     "output_type": "display_data"
    },
    {
     "data": {
      "image/png": "[encoded data removed]",
      "text/plain": [
       "<Figure size 432x288 with 1 Axes>"
      ]
     },
     "metadata": {
      "needs_background": "light"
     },
     "output_type": "display_data"
    },
    {
     "data": {
      "image/png": "[encoded data removed]",
      "text/plain": [
       "<Figure size 432x288 with 1 Axes>"
      ]
     },
     "metadata": {
      "needs_background": "light"
     },
     "output_type": "display_data"
    },
    {
     "data": {
      "image/png": "[encoded data removed]",
      "text/plain": [
       "<Figure size 432x288 with 1 Axes>"
      ]
     },
     "metadata": {
      "needs_background": "light"
     },
     "output_type": "display_data"
    }
   ],
   "source": [
    "\n",
    "tenth_degree = PolynomialFeatures(degree=10)\n",
    "X_ten_train= tenth_degree.fit_transform(X_train_p.reshape(-1,1))\n",
    "X_ten_test = tenth_degree.fit_transform(X_test_p.reshape(-1,1))\n",
    "reg_factor = [0,10e-6,10e-2,1]\n",
    "pred_values = {} \n",
    "for alpha in reg_factor:\n",
    "    reg = Ridge(alpha=alpha)\n",
    "    reg.fit(X_ten_train,y_train_p)\n",
    "    pred = reg.predict(X_ten_test)\n",
    "    pred_values[alpha] = pred.transpose()\n",
    "    Ridge_train_score = reg.score(X_ten_train,y_train_p)\n",
    "    Ridge_test_score = reg.score(X_ten_test , y_test_p)\n",
    "    #print (\"this is the train score = {}, test score = {}\".format(Ridge_train_score,Ridge_test_score))\n",
    "plt.title(label=\"0-REG\", \n",
    "          fontsize=40, \n",
    "          color=\"green\") \n",
    "plt.scatter(X_test_p,y_test_p )\n",
    "\n",
    "lists = sorted(zip(*[X_test_p,pred_values[0] ]))\n",
    "new_x, new_y = list(zip(*lists))\n",
    "\n",
    "plt.plot(new_x,new_y , c='red')\n",
    "\n",
    "plot2 = plt.figure(2) \n",
    "plt.title(label=\"10^-6 -REG\", \n",
    "          fontsize=40, \n",
    "          color=\"green\") \n",
    "plt.scatter(X_test_p,y_test_p)\n",
    "lists = sorted(zip(*[X_test_p,pred_values[10e-6] ]))\n",
    "new_x, new_y = list(zip(*lists))\n",
    "\n",
    "plt.plot(new_x,new_y , c='red')\n",
    "\n",
    "plot3 = plt.figure(3) \n",
    "plt.title(label=\"10^-2 - REG\", \n",
    "          fontsize=40, \n",
    "          color=\"green\") \n",
    "plt.scatter(X_test_p, y_test_p)\n",
    "lists = sorted(zip(*[X_test_p,pred_values[10e-2] ]))\n",
    "new_x, new_y = list(zip(*lists))\n",
    "\n",
    "plt.plot(new_x,new_y , c='red')\n",
    "\n",
    "plot4 = plt.figure(4) \n",
    "plt.title(label=\"1 - REG\", \n",
    "          fontsize=40, \n",
    "          color=\"green\") \n",
    "plt.scatter(X_test_p, y_test_p)\n",
    "lists = sorted(zip(*[X_test_p,pred_values[1] ]))\n",
    "new_x, new_y = list(zip(*lists))\n",
    "\n",
    "plt.plot(new_x,new_y , c='red')\n",
    "   \n"
   ]
  },
  {
   "cell_type": "markdown",
   "metadata": {},
   "source": [
    "<b>Exercise 3 implment coordinate_descent <b>"
   ]
  },
  {
   "cell_type": "code",
   "execution_count": 341,
   "metadata": {},
   "outputs": [],
   "source": [
    "def coordinate_descent(x,y,beta_initial,i_max = 100):\n",
    "    \n",
    "    beta_current = beta_initial\n",
    "    beta_old = beta_initial\n",
    "    history_beta = {}\n",
    "    for i in range(i_max): \n",
    "        beta_old = beta_current.copy()\n",
    "        history_beta[i] = beta_old\n",
    "        for m in range (x.shape[1]):\n",
    "             \n",
    "             list_m_c =list(range(x.shape[1]))\n",
    "             #print (list_m_c)   \n",
    "             list_m_c.remove(m)\n",
    "             #print(list_m_c)\n",
    "             x_current = x[:,list_m_c]\n",
    "             #print ('x_current_dim is{}'.format(x_current.shape))   \n",
    "             b_current = beta_current[list_m_c]\n",
    "             #print ('b_current_dim is{}'.format(x_current.shape))\n",
    "             #print('y _shape is {}'.format(y.shape)) \n",
    "             x_m = x[:,m] \n",
    "             beta_current[m] = ((y-x_current@b_current).T@x_m)/(x_m.T@x_m)\n",
    "             #if m == (x.shape[1]-1): \n",
    "                 #print(\"This is the value of beta {}\".format(beta_current) )\n",
    "        function_now = (y-x@beta_current).T @(y-x@beta_current)\n",
    "        #print (function_now)\n",
    "        #print(beta_old)\n",
    "        #print(beta_current)\n",
    "        #print(beta_initial)\n",
    "        function_old = ((y-x@beta_old).T)@ (y-x@beta_old) \n",
    "        #print(function_old)\n",
    "        if(function_old - function_now < 10**-8 ):\n",
    "            print(\"it needed {} iterations to converge\".format(i))\n",
    "            #print(history_beta )\n",
    "            return history_beta \n",
    "    #print (beta_current)        \n",
    "    return history_beta   \n",
    "    "
   ]
  },
  {
   "cell_type": "markdown",
   "metadata": {},
   "source": [
    "<b> The soft_choose is the helper method when we use regularization <b>"
   ]
  },
  {
   "cell_type": "code",
   "execution_count": 266,
   "metadata": {},
   "outputs": [],
   "source": [
    "def soft_choose(v1,v2):\n",
    "    if v1 > v2:\n",
    "        return v1-v2\n",
    "    elif abs(v1) <= v2:\n",
    "        return 0\n",
    "    elif v1< (-1*v2):\n",
    "        return v1+v2\n",
    "    \n",
    "    \n",
    "                \n",
    "         \n",
    "    "
   ]
  },
  {
   "cell_type": "markdown",
   "metadata": {},
   "source": [
    "<b>Coordinate method with regularizarion<b>"
   ]
  },
  {
   "cell_type": "code",
   "execution_count": 345,
   "metadata": {},
   "outputs": [],
   "source": [
    "def coordinate_descent_reg(x,y,beta_initial,i_max = 100,reg_factor =0.5):\n",
    "    beta_current = beta_initial\n",
    "    beta_old = beta_initial\n",
    "    history_beta = {}\n",
    "    for i in range(i_max):\n",
    "        \n",
    "        beta_old = beta_current.copy()\n",
    "        history_beta[i] = beta_old\n",
    "        for m in range (x.shape[1]):\n",
    "             list_m_c =list(range(x.shape[1]))\n",
    "             #print (list_m_c)   \n",
    "             list_m_c.remove(m)\n",
    "             #print(list_m_c)\n",
    "             x_current = x[:,list_m_c]\n",
    "             #print ('x_current_dim is{}'.format(x_current.shape))   \n",
    "             b_current = beta_current[list_m_c]\n",
    "             #print ('b_current_dim is{}'.format(x_current.shape))\n",
    "             #print('y _shape is {}'.format(y.shape)) \n",
    "             x_m = x[:,m] \n",
    "             first_variable = (y-x_current@b_current).T@x_m/(x_m.T@x_m)\n",
    "             #value_x = x_m.T@x_m  \n",
    "             #value_reg_factor = 0.5*reg_factor\n",
    "             second_variable = (0.5*reg_factor)/(x_m.T@x_m)\n",
    "            # print(\"this is the first variable {} ,second variable {}, value_x{},value_reg{}\".format(first_variable, second_variable,value_x,value_reg_factor)) \n",
    "             beta_current[m] =  soft_choose(first_variable,second_variable)\n",
    "             #if m == (x.shape[1]-1): \n",
    "                 #print(\"This is the value of beta {}\".format(beta_current) )\n",
    "                    \n",
    "        function_now = (y-x@beta_current).T @(y-x@beta_current) + reg_factor*np.sum(np.absolute(beta_current))\n",
    "        #print (function_now)\n",
    "        #print(beta_old)\n",
    "        #print(beta_current)\n",
    "        #print(beta_initial)\n",
    "        function_old = ((y-x@beta_old).T)@ (y-x@beta_old) + reg_factor*np.sum(np.absolute(beta_old))\n",
    "        #print(function_old)\n",
    "        if(function_old - function_now < 10**-8 ):\n",
    "            print(\"it needed {} of iterations to converge\".format(i))\n",
    "            return history_beta \n",
    "    #print (beta_current)        \n",
    "    return history_beta   \n",
    "    "
   ]
  },
  {
   "cell_type": "markdown",
   "metadata": {},
   "source": [
    "<b> We use the below method, to call one timefor the ordinary coordinate method and another for the regularized one <b>\n",
    "    "
   ]
  },
  {
   "cell_type": "code",
   "execution_count": null,
   "metadata": {},
   "outputs": [],
   "source": []
  },
  {
   "cell_type": "code",
   "execution_count": 94,
   "metadata": {},
   "outputs": [],
   "source": [
    "X_train.insert(0, 'bias', 1)"
   ]
  },
  {
   "cell_type": "code",
   "execution_count": 464,
   "metadata": {},
   "outputs": [
    {
     "name": "stdout",
     "output_type": "stream",
     "text": [
      "it needed 73 iterations to converge\n",
      "it needed 23 of iterations to converge\n"
     ]
    },
    {
     "data": {
      "text/html": [
       "<div>\n",
       "<style scoped>\n",
       "    .dataframe tbody tr th:only-of-type {\n",
       "        vertical-align: middle;\n",
       "    }\n",
       "\n",
       "    .dataframe tbody tr th {\n",
       "        vertical-align: top;\n",
       "    }\n",
       "\n",
       "    .dataframe thead th {\n",
       "        text-align: right;\n",
       "    }\n",
       "</style>\n",
       "<table border=\"1\" class=\"dataframe\">\n",
       "  <thead>\n",
       "    <tr style=\"text-align: right;\">\n",
       "      <th></th>\n",
       "      <th>fixed acidity</th>\n",
       "      <th>volatile acidity</th>\n",
       "      <th>citric acid</th>\n",
       "      <th>residual sugar</th>\n",
       "      <th>chlorides</th>\n",
       "      <th>free sulfur dioxide</th>\n",
       "      <th>total sulfur dioxide</th>\n",
       "      <th>density</th>\n",
       "      <th>pH</th>\n",
       "      <th>sulphates</th>\n",
       "      <th>alcohol</th>\n",
       "    </tr>\n",
       "  </thead>\n",
       "  <tbody>\n",
       "    <tr>\n",
       "      <th>620</th>\n",
       "      <td>-0.011279</td>\n",
       "      <td>0.068019</td>\n",
       "      <td>-0.159011</td>\n",
       "      <td>0.610807</td>\n",
       "      <td>-0.243630</td>\n",
       "      <td>0.011958</td>\n",
       "      <td>1.992144</td>\n",
       "      <td>0.452130</td>\n",
       "      <td>-0.266301</td>\n",
       "      <td>-0.284052</td>\n",
       "      <td>-0.959946</td>\n",
       "    </tr>\n",
       "    <tr>\n",
       "      <th>1422</th>\n",
       "      <td>-0.757935</td>\n",
       "      <td>0.068019</td>\n",
       "      <td>-1.391037</td>\n",
       "      <td>-0.311225</td>\n",
       "      <td>-0.179889</td>\n",
       "      <td>2.210777</td>\n",
       "      <td>0.259374</td>\n",
       "      <td>-0.607566</td>\n",
       "      <td>0.510970</td>\n",
       "      <td>1.072824</td>\n",
       "      <td>0.916812</td>\n",
       "    </tr>\n",
       "    <tr>\n",
       "      <th>1092</th>\n",
       "      <td>-0.757935</td>\n",
       "      <td>0.068019</td>\n",
       "      <td>-0.929027</td>\n",
       "      <td>-0.382151</td>\n",
       "      <td>-0.137395</td>\n",
       "      <td>-0.561648</td>\n",
       "      <td>-0.926204</td>\n",
       "      <td>-1.036742</td>\n",
       "      <td>0.770060</td>\n",
       "      <td>-0.402042</td>\n",
       "      <td>1.010650</td>\n",
       "    </tr>\n",
       "    <tr>\n",
       "      <th>520</th>\n",
       "      <td>0.850247</td>\n",
       "      <td>-1.551552</td>\n",
       "      <td>1.124349</td>\n",
       "      <td>0.114328</td>\n",
       "      <td>0.011334</td>\n",
       "      <td>-0.083643</td>\n",
       "      <td>-0.409414</td>\n",
       "      <td>0.770039</td>\n",
       "      <td>0.705287</td>\n",
       "      <td>1.426792</td>\n",
       "      <td>-0.396918</td>\n",
       "    </tr>\n",
       "    <tr>\n",
       "      <th>1416</th>\n",
       "      <td>0.965118</td>\n",
       "      <td>-1.160621</td>\n",
       "      <td>1.637693</td>\n",
       "      <td>-0.240300</td>\n",
       "      <td>-0.222383</td>\n",
       "      <td>-1.230854</td>\n",
       "      <td>-0.956604</td>\n",
       "      <td>1.405857</td>\n",
       "      <td>-0.719708</td>\n",
       "      <td>0.718856</td>\n",
       "      <td>-0.772270</td>\n",
       "    </tr>\n",
       "  </tbody>\n",
       "</table>\n",
       "</div>"
      ],
      "text/plain": [
       "      fixed acidity  volatile acidity  citric acid  residual sugar  chlorides  \\\n",
       "620       -0.011279          0.068019    -0.159011        0.610807  -0.243630   \n",
       "1422      -0.757935          0.068019    -1.391037       -0.311225  -0.179889   \n",
       "1092      -0.757935          0.068019    -0.929027       -0.382151  -0.137395   \n",
       "520        0.850247         -1.551552     1.124349        0.114328   0.011334   \n",
       "1416       0.965118         -1.160621     1.637693       -0.240300  -0.222383   \n",
       "\n",
       "      free sulfur dioxide  total sulfur dioxide   density        pH  \\\n",
       "620              0.011958              1.992144  0.452130 -0.266301   \n",
       "1422             2.210777              0.259374 -0.607566  0.510970   \n",
       "1092            -0.561648             -0.926204 -1.036742  0.770060   \n",
       "520             -0.083643             -0.409414  0.770039  0.705287   \n",
       "1416            -1.230854             -0.956604  1.405857 -0.719708   \n",
       "\n",
       "      sulphates   alcohol  \n",
       "620   -0.284052 -0.959946  \n",
       "1422   1.072824  0.916812  \n",
       "1092  -0.402042  1.010650  \n",
       "520    1.426792 -0.396918  \n",
       "1416   0.718856 -0.772270  "
      ]
     },
     "execution_count": 464,
     "metadata": {},
     "output_type": "execute_result"
    },
    {
     "data": {
      "image/png": "[encoded data removed]",
      "text/plain": [
       "<Figure size 432x288 with 1 Axes>"
      ]
     },
     "metadata": {
      "needs_background": "light"
     },
     "output_type": "display_data"
    },
    {
     "data": {
      "image/png": "[encoded data removed]",
      "text/plain": [
       "<Figure size 432x288 with 1 Axes>"
      ]
     },
     "metadata": {
      "needs_background": "light"
     },
     "output_type": "display_data"
    }
   ],
   "source": [
    "def learn_Coordinate_Descent(i_max =1000):\n",
    "    X = X_train.values \n",
    "    Y = y_train.values\n",
    "    Beta = np.zeros(X.shape[1])  \n",
    "    beta_history_ord = coordinate_descent(X,Y,Beta)\n",
    "    #print( beta_history_ord)\n",
    "    Beta_history_reg = coordinate_descent_reg(X,Y,Beta)\n",
    "    #print( Beta_history_reg)\n",
    "    #plotting ----------------------------\n",
    "    \n",
    "    \n",
    "    \n",
    "    xs, ys=zip(*((x, k) for k in beta_history_ord for x in beta_history_ord[k]))\n",
    "    #---sort------------------\n",
    "    #lists = sorted(zip(*[ys,xs ]))\n",
    "    #new_x, new_y = list(zip(*lists))\n",
    "  \n",
    "    plot1 = plt. figure(1) \n",
    "    plt.title(label=\"ordinary\", \n",
    "          fontsize=40, \n",
    "          color=\"green\") \n",
    "    plt.plot(ys, xs, label=i)\n",
    "    plt.xlabel('iteration')\n",
    "    plt.ylabel('beta')\n",
    "   \n",
    "    #-------plotting regularized----------------\n",
    "    plot2 =  plt. figure(2)\n",
    "    plt.title(label=\"Regularized\", \n",
    "          fontsize=40, \n",
    "          color=\"green\")\n",
    "    \n",
    "    \n",
    "    x_s,y_s = zip(*((x, k) for k in Beta_history_reg for x in Beta_history_reg[k])) \n",
    "    \n",
    "    \n",
    "    plt.plot(y_s,x_s, label=x_s)\n",
    "    plt.xlabel('iteration')\n",
    "    plt.ylabel('beta')\n",
    "    #plt.legend()\n",
    "         \n",
    "Beta = learn_Coordinate_Descent() \n",
    "\n",
    "X_train.head() "
   ]
  },
  {
   "cell_type": "code",
   "execution_count": null,
   "metadata": {},
   "outputs": [],
   "source": []
  },
  {
   "cell_type": "code",
   "execution_count": null,
   "metadata": {},
   "outputs": [],
   "source": []
  },
  {
   "cell_type": "code",
   "execution_count": null,
   "metadata": {},
   "outputs": [],
   "source": []
  }
 ],
 "metadata": {
  "kernelspec": {
   "display_name": "Python 3",
   "language": "python",
   "name": "python3"
  },
  "language_info": {
   "codemirror_mode": {
    "name": "ipython",
    "version": 3
   },
   "file_extension": ".py",
   "mimetype": "text/x-python",
   "name": "python",
   "nbconvert_exporter": "python",
   "pygments_lexer": "ipython3",
   "version": "3.7.6"
  }
 },
 "nbformat": 4,
 "nbformat_minor": 4
}
